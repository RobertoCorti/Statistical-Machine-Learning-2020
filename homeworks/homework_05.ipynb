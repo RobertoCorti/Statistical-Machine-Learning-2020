{
 "cells": [
  {
   "cell_type": "markdown",
   "metadata": {},
   "source": [
    "## Exercise\n",
    "\n",
    "Load the national COVID dataset and solve the exercise using `scikit-learn` library.\n",
    "Consider first the column corresponding to the (cumulative) number of deaths. \n",
    "1. Perform a train-test split, with observations from the last week corresponding to the test set;\n",
    "2. Build a suitable combination of kernels choosing from the ones shown in `notebook_05`;\n",
    "3. Fit a `GaussianProcessRegressor` to predict the daily number of swabs, plot future predictions and compare them to real test data;\n",
    "4. Repeat points 1-3 on the daily number of swabs, which can be computed from the cumulative number provided in the dataset.\n",
    "\n",
    "You are welcome to try out and fit other data streams in the dataset. \n"
   ]
  },
  {
   "cell_type": "code",
   "execution_count": 8,
   "metadata": {},
   "outputs": [],
   "source": [
    "import numpy as np\n",
    "from sklearn import gaussian_process\n",
    "from matplotlib import pyplot as plt\n",
    "import matplotlib.dates as mdates\n",
    "import matplotlib as mt\n",
    "import os\n",
    "import pandas as pd\n",
    "import datetime as dt\n",
    "\n",
    "mt.rcParams['axes.titlesize'] = 20\n",
    "mt.rcParams['axes.labelsize'] = 16\n",
    "mt.rcParams['xtick.labelsize'] = 12\n",
    "mt.rcParams['ytick.labelsize'] = 12\n",
    "mt.rcParams['legend.fontsize'] = 14"
   ]
  },
  {
   "cell_type": "markdown",
   "metadata": {},
   "source": [
    "1. **Solution**\n",
    "\n",
    "    I load the dataset from `data` folder and I set the `date` as the index of the dataframe"
   ]
  },
  {
   "cell_type": "code",
   "execution_count": 9,
   "metadata": {},
   "outputs": [
    {
     "data": {
      "text/html": [
       "<div>\n",
       "<style scoped>\n",
       "    .dataframe tbody tr th:only-of-type {\n",
       "        vertical-align: middle;\n",
       "    }\n",
       "\n",
       "    .dataframe tbody tr th {\n",
       "        vertical-align: top;\n",
       "    }\n",
       "\n",
       "    .dataframe thead th {\n",
       "        text-align: right;\n",
       "    }\n",
       "</style>\n",
       "<table border=\"1\" class=\"dataframe\">\n",
       "  <thead>\n",
       "    <tr style=\"text-align: right;\">\n",
       "      <th></th>\n",
       "      <th>deaths</th>\n",
       "      <th>swabs</th>\n",
       "      <th>ICU</th>\n",
       "      <th>hospitalized</th>\n",
       "      <th>new_infections</th>\n",
       "      <th>cumulative_infections</th>\n",
       "      <th>recovered</th>\n",
       "      <th>quarantined</th>\n",
       "    </tr>\n",
       "    <tr>\n",
       "      <th>date</th>\n",
       "      <th></th>\n",
       "      <th></th>\n",
       "      <th></th>\n",
       "      <th></th>\n",
       "      <th></th>\n",
       "      <th></th>\n",
       "      <th></th>\n",
       "      <th></th>\n",
       "    </tr>\n",
       "  </thead>\n",
       "  <tbody>\n",
       "    <tr>\n",
       "      <th>2020-02-24</th>\n",
       "      <td>7</td>\n",
       "      <td>4324</td>\n",
       "      <td>26</td>\n",
       "      <td>101</td>\n",
       "      <td>221</td>\n",
       "      <td>229</td>\n",
       "      <td>1</td>\n",
       "      <td>94</td>\n",
       "    </tr>\n",
       "    <tr>\n",
       "      <th>2020-02-25</th>\n",
       "      <td>10</td>\n",
       "      <td>8623</td>\n",
       "      <td>35</td>\n",
       "      <td>114</td>\n",
       "      <td>93</td>\n",
       "      <td>322</td>\n",
       "      <td>1</td>\n",
       "      <td>162</td>\n",
       "    </tr>\n",
       "    <tr>\n",
       "      <th>2020-02-26</th>\n",
       "      <td>12</td>\n",
       "      <td>9587</td>\n",
       "      <td>36</td>\n",
       "      <td>128</td>\n",
       "      <td>78</td>\n",
       "      <td>400</td>\n",
       "      <td>3</td>\n",
       "      <td>221</td>\n",
       "    </tr>\n",
       "    <tr>\n",
       "      <th>2020-02-27</th>\n",
       "      <td>17</td>\n",
       "      <td>12014</td>\n",
       "      <td>56</td>\n",
       "      <td>248</td>\n",
       "      <td>250</td>\n",
       "      <td>650</td>\n",
       "      <td>45</td>\n",
       "      <td>284</td>\n",
       "    </tr>\n",
       "    <tr>\n",
       "      <th>2020-02-28</th>\n",
       "      <td>21</td>\n",
       "      <td>15695</td>\n",
       "      <td>64</td>\n",
       "      <td>345</td>\n",
       "      <td>238</td>\n",
       "      <td>888</td>\n",
       "      <td>46</td>\n",
       "      <td>412</td>\n",
       "    </tr>\n",
       "  </tbody>\n",
       "</table>\n",
       "</div>"
      ],
      "text/plain": [
       "            deaths  swabs  ICU  hospitalized  new_infections  \\\n",
       "date                                                           \n",
       "2020-02-24       7   4324   26           101             221   \n",
       "2020-02-25      10   8623   35           114              93   \n",
       "2020-02-26      12   9587   36           128              78   \n",
       "2020-02-27      17  12014   56           248             250   \n",
       "2020-02-28      21  15695   64           345             238   \n",
       "\n",
       "            cumulative_infections  recovered  quarantined  \n",
       "date                                                       \n",
       "2020-02-24                    229          1           94  \n",
       "2020-02-25                    322          1          162  \n",
       "2020-02-26                    400          3          221  \n",
       "2020-02-27                    650         45          284  \n",
       "2020-02-28                    888         46          412  "
      ]
     },
     "execution_count": 9,
     "metadata": {},
     "output_type": "execute_result"
    }
   ],
   "source": [
    "# Load the monthly dataset\n",
    "data_covid = pd.read_csv(\"data/COVID_national_20200421.csv\")\n",
    "\n",
    "# fix column names\n",
    "cols = list(data_covid.columns[data_covid.columns != 'Unnamed: 0'])\n",
    "data_covid = data_covid[cols]\n",
    "\n",
    "# drop rows with nan\n",
    "data_covid.dropna(inplace=True)\n",
    "\n",
    "# set date as index\n",
    "data_covid['date'] = pd.to_datetime(data_covid['date'])\n",
    "data_covid = data_covid.set_index('date', drop=True)\n",
    "\n",
    "\n",
    "data_covid.head()"
   ]
  },
  {
   "cell_type": "code",
   "execution_count": 10,
   "metadata": {},
   "outputs": [],
   "source": [
    "# Helpful functions\n",
    "\n",
    "def dates_to_idx(timelist):\n",
    "    reference_time = pd.to_datetime('2020-02-24')\n",
    "    t = (timelist - reference_time) / pd.Timedelta(1, \"D\")\n",
    "    return np.asarray(t)\n",
    "\n",
    "def idx_to_date(time_index):\n",
    "    reference_time = pd.to_datetime('2020-02-24')\n",
    "    date=[[reference_time+pd.Timedelta(time_index[i], \"D\")] for i in range(len(time_index))]\n",
    "    return np.array(date)\n",
    "\n"
   ]
  },
  {
   "cell_type": "markdown",
   "metadata": {},
   "source": [
    "Since our analysis is focused on daily swabs analysis, inside the `data_covid` dataframe I add two columns:\n",
    "\n",
    "   * `t`: which represents the number of day after the first day, that was the 24-02-2020.\n",
    "\n",
    "* `daily_swabs`: which represents the number of daily swabs; it is simply computed by subracting the current number of swabs with the previous one.\n"
   ]
  },
  {
   "cell_type": "code",
   "execution_count": 11,
   "metadata": {},
   "outputs": [
    {
     "data": {
      "text/html": [
       "<div>\n",
       "<style scoped>\n",
       "    .dataframe tbody tr th:only-of-type {\n",
       "        vertical-align: middle;\n",
       "    }\n",
       "\n",
       "    .dataframe tbody tr th {\n",
       "        vertical-align: top;\n",
       "    }\n",
       "\n",
       "    .dataframe thead th {\n",
       "        text-align: right;\n",
       "    }\n",
       "</style>\n",
       "<table border=\"1\" class=\"dataframe\">\n",
       "  <thead>\n",
       "    <tr style=\"text-align: right;\">\n",
       "      <th></th>\n",
       "      <th>deaths</th>\n",
       "      <th>swabs</th>\n",
       "      <th>ICU</th>\n",
       "      <th>hospitalized</th>\n",
       "      <th>new_infections</th>\n",
       "      <th>cumulative_infections</th>\n",
       "      <th>recovered</th>\n",
       "      <th>quarantined</th>\n",
       "      <th>t</th>\n",
       "      <th>daily_swab</th>\n",
       "    </tr>\n",
       "    <tr>\n",
       "      <th>date</th>\n",
       "      <th></th>\n",
       "      <th></th>\n",
       "      <th></th>\n",
       "      <th></th>\n",
       "      <th></th>\n",
       "      <th></th>\n",
       "      <th></th>\n",
       "      <th></th>\n",
       "      <th></th>\n",
       "      <th></th>\n",
       "    </tr>\n",
       "  </thead>\n",
       "  <tbody>\n",
       "    <tr>\n",
       "      <th>2020-02-24</th>\n",
       "      <td>7</td>\n",
       "      <td>4324</td>\n",
       "      <td>26</td>\n",
       "      <td>101</td>\n",
       "      <td>221</td>\n",
       "      <td>229</td>\n",
       "      <td>1</td>\n",
       "      <td>94</td>\n",
       "      <td>0.0</td>\n",
       "      <td>4324</td>\n",
       "    </tr>\n",
       "    <tr>\n",
       "      <th>2020-02-25</th>\n",
       "      <td>10</td>\n",
       "      <td>8623</td>\n",
       "      <td>35</td>\n",
       "      <td>114</td>\n",
       "      <td>93</td>\n",
       "      <td>322</td>\n",
       "      <td>1</td>\n",
       "      <td>162</td>\n",
       "      <td>1.0</td>\n",
       "      <td>4299</td>\n",
       "    </tr>\n",
       "    <tr>\n",
       "      <th>2020-02-26</th>\n",
       "      <td>12</td>\n",
       "      <td>9587</td>\n",
       "      <td>36</td>\n",
       "      <td>128</td>\n",
       "      <td>78</td>\n",
       "      <td>400</td>\n",
       "      <td>3</td>\n",
       "      <td>221</td>\n",
       "      <td>2.0</td>\n",
       "      <td>964</td>\n",
       "    </tr>\n",
       "    <tr>\n",
       "      <th>2020-02-27</th>\n",
       "      <td>17</td>\n",
       "      <td>12014</td>\n",
       "      <td>56</td>\n",
       "      <td>248</td>\n",
       "      <td>250</td>\n",
       "      <td>650</td>\n",
       "      <td>45</td>\n",
       "      <td>284</td>\n",
       "      <td>3.0</td>\n",
       "      <td>2427</td>\n",
       "    </tr>\n",
       "    <tr>\n",
       "      <th>2020-02-28</th>\n",
       "      <td>21</td>\n",
       "      <td>15695</td>\n",
       "      <td>64</td>\n",
       "      <td>345</td>\n",
       "      <td>238</td>\n",
       "      <td>888</td>\n",
       "      <td>46</td>\n",
       "      <td>412</td>\n",
       "      <td>4.0</td>\n",
       "      <td>3681</td>\n",
       "    </tr>\n",
       "  </tbody>\n",
       "</table>\n",
       "</div>"
      ],
      "text/plain": [
       "            deaths  swabs  ICU  hospitalized  new_infections  \\\n",
       "date                                                           \n",
       "2020-02-24       7   4324   26           101             221   \n",
       "2020-02-25      10   8623   35           114              93   \n",
       "2020-02-26      12   9587   36           128              78   \n",
       "2020-02-27      17  12014   56           248             250   \n",
       "2020-02-28      21  15695   64           345             238   \n",
       "\n",
       "            cumulative_infections  recovered  quarantined    t  daily_swab  \n",
       "date                                                                        \n",
       "2020-02-24                    229          1           94  0.0        4324  \n",
       "2020-02-25                    322          1          162  1.0        4299  \n",
       "2020-02-26                    400          3          221  2.0         964  \n",
       "2020-02-27                    650         45          284  3.0        2427  \n",
       "2020-02-28                    888         46          412  4.0        3681  "
      ]
     },
     "execution_count": 11,
     "metadata": {},
     "output_type": "execute_result"
    }
   ],
   "source": [
    "t = dates_to_idx(data_covid.index)\n",
    "\n",
    "# log-scale\n",
    "y = data_covid[\"swabs\"].values\n",
    "daily_swabs = [y[0] if i==0 else y[i]-y[i-1] for i in range(len(y))]\n",
    "y_n = daily_swabs\n",
    "\n",
    "data_covid = data_covid.assign(t = t)\n",
    "data_covid = data_covid.assign(daily_swab = daily_swabs)\n",
    "\n",
    "\n",
    "data_covid.head()"
   ]
  },
  {
   "cell_type": "markdown",
   "metadata": {},
   "source": [
    "In order to make the split between **train** and **test** data, I decide to train my model with the data that comes from the dataframe till the date 2020-04-13.\n",
    "\n",
    "I store the dataframe relative to the train set in `data train`:"
   ]
  },
  {
   "cell_type": "code",
   "execution_count": 22,
   "metadata": {},
   "outputs": [
    {
     "data": {
      "text/html": [
       "<div>\n",
       "<style scoped>\n",
       "    .dataframe tbody tr th:only-of-type {\n",
       "        vertical-align: middle;\n",
       "    }\n",
       "\n",
       "    .dataframe tbody tr th {\n",
       "        vertical-align: top;\n",
       "    }\n",
       "\n",
       "    .dataframe thead th {\n",
       "        text-align: right;\n",
       "    }\n",
       "</style>\n",
       "<table border=\"1\" class=\"dataframe\">\n",
       "  <thead>\n",
       "    <tr style=\"text-align: right;\">\n",
       "      <th></th>\n",
       "      <th>deaths</th>\n",
       "      <th>swabs</th>\n",
       "      <th>ICU</th>\n",
       "      <th>hospitalized</th>\n",
       "      <th>new_infections</th>\n",
       "      <th>cumulative_infections</th>\n",
       "      <th>recovered</th>\n",
       "      <th>quarantined</th>\n",
       "      <th>t</th>\n",
       "      <th>daily_swab</th>\n",
       "    </tr>\n",
       "    <tr>\n",
       "      <th>date</th>\n",
       "      <th></th>\n",
       "      <th></th>\n",
       "      <th></th>\n",
       "      <th></th>\n",
       "      <th></th>\n",
       "      <th></th>\n",
       "      <th></th>\n",
       "      <th></th>\n",
       "      <th></th>\n",
       "      <th></th>\n",
       "    </tr>\n",
       "  </thead>\n",
       "  <tbody>\n",
       "    <tr>\n",
       "      <th>2020-02-24</th>\n",
       "      <td>7</td>\n",
       "      <td>4324</td>\n",
       "      <td>26</td>\n",
       "      <td>101</td>\n",
       "      <td>221</td>\n",
       "      <td>229</td>\n",
       "      <td>1</td>\n",
       "      <td>94</td>\n",
       "      <td>0.0</td>\n",
       "      <td>4324</td>\n",
       "    </tr>\n",
       "    <tr>\n",
       "      <th>2020-02-25</th>\n",
       "      <td>10</td>\n",
       "      <td>8623</td>\n",
       "      <td>35</td>\n",
       "      <td>114</td>\n",
       "      <td>93</td>\n",
       "      <td>322</td>\n",
       "      <td>1</td>\n",
       "      <td>162</td>\n",
       "      <td>1.0</td>\n",
       "      <td>4299</td>\n",
       "    </tr>\n",
       "    <tr>\n",
       "      <th>2020-02-26</th>\n",
       "      <td>12</td>\n",
       "      <td>9587</td>\n",
       "      <td>36</td>\n",
       "      <td>128</td>\n",
       "      <td>78</td>\n",
       "      <td>400</td>\n",
       "      <td>3</td>\n",
       "      <td>221</td>\n",
       "      <td>2.0</td>\n",
       "      <td>964</td>\n",
       "    </tr>\n",
       "  </tbody>\n",
       "</table>\n",
       "</div>"
      ],
      "text/plain": [
       "            deaths  swabs  ICU  hospitalized  new_infections  \\\n",
       "date                                                           \n",
       "2020-02-24       7   4324   26           101             221   \n",
       "2020-02-25      10   8623   35           114              93   \n",
       "2020-02-26      12   9587   36           128              78   \n",
       "\n",
       "            cumulative_infections  recovered  quarantined    t  daily_swab  \n",
       "date                                                                        \n",
       "2020-02-24                    229          1           94  0.0        4324  \n",
       "2020-02-25                    322          1          162  1.0        4299  \n",
       "2020-02-26                    400          3          221  2.0         964  "
      ]
     },
     "execution_count": 22,
     "metadata": {},
     "output_type": "execute_result"
    }
   ],
   "source": [
    "# index relative to 2020-04-13\n",
    "sep_idx = data_covid.index.searchsorted(pd.to_datetime(\"2020-04-13\"))\n",
    "\n",
    "#dataframe of train set\n",
    "data_train = data_covid.iloc[:sep_idx+1, :]\n",
    "\n",
    "data_train.head(3)"
   ]
  },
  {
   "cell_type": "markdown",
   "metadata": {},
   "source": [
    "while the dataset relatives to the days after the 13-04-2020 are stored inside `data_test`:"
   ]
  },
  {
   "cell_type": "code",
   "execution_count": 23,
   "metadata": {},
   "outputs": [
    {
     "data": {
      "text/html": [
       "<div>\n",
       "<style scoped>\n",
       "    .dataframe tbody tr th:only-of-type {\n",
       "        vertical-align: middle;\n",
       "    }\n",
       "\n",
       "    .dataframe tbody tr th {\n",
       "        vertical-align: top;\n",
       "    }\n",
       "\n",
       "    .dataframe thead th {\n",
       "        text-align: right;\n",
       "    }\n",
       "</style>\n",
       "<table border=\"1\" class=\"dataframe\">\n",
       "  <thead>\n",
       "    <tr style=\"text-align: right;\">\n",
       "      <th></th>\n",
       "      <th>deaths</th>\n",
       "      <th>swabs</th>\n",
       "      <th>ICU</th>\n",
       "      <th>hospitalized</th>\n",
       "      <th>new_infections</th>\n",
       "      <th>cumulative_infections</th>\n",
       "      <th>recovered</th>\n",
       "      <th>quarantined</th>\n",
       "      <th>t</th>\n",
       "      <th>daily_swab</th>\n",
       "    </tr>\n",
       "    <tr>\n",
       "      <th>date</th>\n",
       "      <th></th>\n",
       "      <th></th>\n",
       "      <th></th>\n",
       "      <th></th>\n",
       "      <th></th>\n",
       "      <th></th>\n",
       "      <th></th>\n",
       "      <th></th>\n",
       "      <th></th>\n",
       "      <th></th>\n",
       "    </tr>\n",
       "  </thead>\n",
       "  <tbody>\n",
       "    <tr>\n",
       "      <th>2020-04-13</th>\n",
       "      <td>20465</td>\n",
       "      <td>1046910</td>\n",
       "      <td>3260</td>\n",
       "      <td>28023</td>\n",
       "      <td>3153</td>\n",
       "      <td>159516</td>\n",
       "      <td>35435</td>\n",
       "      <td>72333</td>\n",
       "      <td>49.0</td>\n",
       "      <td>36717</td>\n",
       "    </tr>\n",
       "    <tr>\n",
       "      <th>2020-04-14</th>\n",
       "      <td>21067</td>\n",
       "      <td>1073689</td>\n",
       "      <td>3186</td>\n",
       "      <td>28011</td>\n",
       "      <td>2972</td>\n",
       "      <td>162488</td>\n",
       "      <td>37130</td>\n",
       "      <td>73094</td>\n",
       "      <td>50.0</td>\n",
       "      <td>26779</td>\n",
       "    </tr>\n",
       "    <tr>\n",
       "      <th>2020-04-15</th>\n",
       "      <td>21645</td>\n",
       "      <td>1117404</td>\n",
       "      <td>3079</td>\n",
       "      <td>27643</td>\n",
       "      <td>2667</td>\n",
       "      <td>165155</td>\n",
       "      <td>38092</td>\n",
       "      <td>74696</td>\n",
       "      <td>51.0</td>\n",
       "      <td>43715</td>\n",
       "    </tr>\n",
       "  </tbody>\n",
       "</table>\n",
       "</div>"
      ],
      "text/plain": [
       "            deaths    swabs   ICU  hospitalized  new_infections  \\\n",
       "date                                                              \n",
       "2020-04-13   20465  1046910  3260         28023            3153   \n",
       "2020-04-14   21067  1073689  3186         28011            2972   \n",
       "2020-04-15   21645  1117404  3079         27643            2667   \n",
       "\n",
       "            cumulative_infections  recovered  quarantined     t  daily_swab  \n",
       "date                                                                         \n",
       "2020-04-13                 159516      35435        72333  49.0       36717  \n",
       "2020-04-14                 162488      37130        73094  50.0       26779  \n",
       "2020-04-15                 165155      38092        74696  51.0       43715  "
      ]
     },
     "execution_count": 23,
     "metadata": {},
     "output_type": "execute_result"
    }
   ],
   "source": [
    "#dataframe relative to test-set\n",
    "data_test = data_covid.iloc[sep_idx:, :]\n",
    "\n",
    "data_test.head(3)"
   ]
  },
  {
   "cell_type": "markdown",
   "metadata": {},
   "source": [
    "2. **Solution**:\n",
    "\n",
    "Since we are interested on fitting the number of daily swabs during time, let's have a graphical view of this dataset"
   ]
  },
  {
   "cell_type": "code",
   "execution_count": 26,
   "metadata": {},
   "outputs": [
    {
     "data": {
      "text/plain": [
       "Text(0.5,1,'daily swabs as a function of time index')"
      ]
     },
     "execution_count": 26,
     "metadata": {},
     "output_type": "execute_result"
    },
    {
     "data": {
      "image/png": "[encoded data removed]",
      "text/plain": [
       "<Figure size 936x504 with 1 Axes>"
      ]
     },
     "metadata": {},
     "output_type": "display_data"
    }
   ],
   "source": [
    "fig, ax = plt.subplots(1, 1, figsize=(13, 7))\n",
    "\n",
    "ax.plot(data_covid.index, data_covid.daily_swab, marker='o', linestyle='', alpha=0.9)\n",
    "ax.axvline(pd.to_datetime(\"2020-04-13\"), linestyle='--', color='k', label=\"train-test boundary\")\n",
    "ax.legend()\n",
    "ax.set_title('daily swabs as a function of time index')"
   ]
  },
  {
   "cell_type": "code",
   "execution_count": 26,
   "metadata": {},
   "outputs": [
    {
     "data": {
      "text/plain": [
       "Text(0.5,1,'Daily swabs as a function of time index')"
      ]
     },
     "execution_count": 26,
     "metadata": {},
     "output_type": "execute_result"
    },
    {
     "data": {
      "image/png": "[encoded data removed]",
      "text/plain": [
       "<Figure size 936x504 with 1 Axes>"
      ]
     },
     "metadata": {},
     "output_type": "display_data"
    }
   ],
   "source": [
    "from sklearn.linear_model import LinearRegression\n",
    "\n",
    "X = data_covid.t.values[:, None]\n",
    "y = data_covid.y_n.values\n",
    "train_X = X[:len(data_early)]\n",
    "train_y = y[:len(data_early)]\n",
    "test_X = X[len(data_early):]\n",
    "test_y = y[len(data_early):]\n",
    "\n",
    "# y = 1 * x_0 + 2 * x_1 + 3\n",
    "#y = np.dot(X, np.array([1, 2])) + 3\n",
    "reg = LinearRegression().fit(train_X, train_y)\n",
    "reg.score(X, y)\n",
    "\n",
    "retta = reg.intercept_ + np.dot(X,reg.coef_)\n",
    "\n",
    "fig, ax = plt.subplots(1, 1, figsize=(13, 7))\n",
    "\n",
    "ax.plot(data_covid.t.values, retta, color='b', label = 'least-squares line')\n",
    "ax.plot(data_covid.t.values, data_covid.daily_swab, color='b', marker='o', linestyle='', alpha=0.2)\n",
    "ax.axvline(dates_to_idx(pd.to_datetime(\"2020-04-13\")), linestyle='--', color='k')\n",
    "ax.legend()\n",
    "ax.set_title('Daily swabs as a function of time index')\n"
   ]
  },
  {
   "cell_type": "code",
   "execution_count": 153,
   "metadata": {},
   "outputs": [],
   "source": [
    "from sklearn.gaussian_process.kernels import Matern, ConstantKernel, DotProduct, RBF, ExpSineSquared, RationalQuadratic, WhiteKernel\n",
    "from sklearn.gaussian_process import GaussianProcessRegressor"
   ]
  },
  {
   "cell_type": "code",
   "execution_count": 154,
   "metadata": {},
   "outputs": [],
   "source": [
    "X = data_covid.t.values[:, None]\n",
    "y = data_covid.y_n.values\n",
    "train_X = X[:len(data_early)]\n",
    "train_y = y[:len(data_early)]\n",
    "test_X = X[len(data_early):]\n",
    "test_y = y[len(data_early):]"
   ]
  },
  {
   "cell_type": "code",
   "execution_count": 155,
   "metadata": {},
   "outputs": [],
   "source": [
    "def plot_predictions(gp, include_observed=True):\n",
    "    pred_y, pred_std = gp.predict(X, return_std=True)\n",
    "    plt.figure(figsize=(10, 7))\n",
    "    x = X[:, 0]\n",
    "    if include_observed:\n",
    "        plt.plot(x, y, 'ok', alpha=0.1)\n",
    "    l, = plt.plot(x, pred_y)\n",
    "    plt.fill_between(x,\n",
    "                     pred_y + pred_std,\n",
    "                     pred_y - pred_std,\n",
    "                     color=l.get_color(), alpha=0.3)\n",
    "    if np.allclose(X[:, 0], data_covid.t.values):\n",
    "        plt.axvline(dates_to_idx(pd.to_datetime(\"2020-04-13\")), linestyle='--', color='k')\n",
    "    else:\n",
    "        plt.axvline(pd.to_datetime(\"2020-04-13\"), linestyle='--', color='k')"
   ]
  },
  {
   "cell_type": "code",
   "execution_count": 215,
   "metadata": {},
   "outputs": [
    {
     "data": {
      "text/plain": [
       "GaussianProcessRegressor(alpha=0.0001, copy_X_train=True,\n",
       "             kernel=DotProduct(sigma_0=1) + WhiteKernel(noise_level=0.0001),\n",
       "             n_restarts_optimizer=3, normalize_y=False,\n",
       "             optimizer='fmin_l_bfgs_b', random_state=None)"
      ]
     },
     "execution_count": 215,
     "metadata": {},
     "output_type": "execute_result"
    }
   ],
   "source": [
    "smooth_kernel = ExpSineSquared\n",
    "\n",
    "k = dot + WhiteKernel(noise_level=0.0001, noise_level_bounds=(100, 1000))\n",
    "\n",
    "# Create the regressor\n",
    "gp0 = GaussianProcessRegressor(kernel=k, alpha=0.01**2,\n",
    "                               normalize_y=False,\n",
    "                               n_restarts_optimizer=3)\n",
    "gp0"
   ]
  },
  {
   "cell_type": "code",
   "execution_count": 216,
   "metadata": {},
   "outputs": [
    {
     "data": {
      "text/plain": [
       "GaussianProcessRegressor(alpha=0.0001, copy_X_train=True,\n",
       "             kernel=DotProduct(sigma_0=1) + WhiteKernel(noise_level=0.0001),\n",
       "             n_restarts_optimizer=3, normalize_y=False,\n",
       "             optimizer='fmin_l_bfgs_b', random_state=None)"
      ]
     },
     "execution_count": 216,
     "metadata": {},
     "output_type": "execute_result"
    }
   ],
   "source": [
    "# Train the regressor\n",
    "gp0.fit(train_X, train_y)"
   ]
  },
  {
   "cell_type": "code",
   "execution_count": 217,
   "metadata": {},
   "outputs": [
    {
     "data": {
      "text/plain": [
       "DotProduct(sigma_0=1) + WhiteKernel(noise_level=0.0001)"
      ]
     },
     "execution_count": 217,
     "metadata": {},
     "output_type": "execute_result"
    }
   ],
   "source": [
    "gp0.kernel"
   ]
  },
  {
   "cell_type": "code",
   "execution_count": 218,
   "metadata": {},
   "outputs": [
    {
     "data": {
      "text/plain": [
       "DotProduct(sigma_0=2e+03) + WhiteKernel(noise_level=1e+03)"
      ]
     },
     "execution_count": 218,
     "metadata": {},
     "output_type": "execute_result"
    }
   ],
   "source": [
    "# We can see the kernel after training in the kernel_ attribute\n",
    "gp0.kernel_"
   ]
  },
  {
   "cell_type": "code",
   "execution_count": 219,
   "metadata": {},
   "outputs": [
    {
     "data": {
      "text/plain": [
       "{'alpha': 0.0001,\n",
       " 'copy_X_train': True,\n",
       " 'kernel__k1': DotProduct(sigma_0=1),\n",
       " 'kernel__k2': WhiteKernel(noise_level=0.0001),\n",
       " 'kernel__k1__sigma_0': 1.0,\n",
       " 'kernel__k1__sigma_0_bounds': (1000, 2000),\n",
       " 'kernel__k2__noise_level': 0.0001,\n",
       " 'kernel__k2__noise_level_bounds': (100, 1000),\n",
       " 'kernel': DotProduct(sigma_0=1) + WhiteKernel(noise_level=0.0001),\n",
       " 'n_restarts_optimizer': 3,\n",
       " 'normalize_y': False,\n",
       " 'optimizer': 'fmin_l_bfgs_b',\n",
       " 'random_state': None}"
      ]
     },
     "execution_count": 219,
     "metadata": {},
     "output_type": "execute_result"
    }
   ],
   "source": [
    "# All other parameters of the GP\n",
    "gp0.get_params()"
   ]
  },
  {
   "cell_type": "code",
   "execution_count": 220,
   "metadata": {},
   "outputs": [
    {
     "data": {
      "text/plain": [
       "-1175215.4125819663"
      ]
     },
     "execution_count": 220,
     "metadata": {},
     "output_type": "execute_result"
    }
   ],
   "source": [
    "# The log marginal likelihood of the MAP can be found after training\n",
    "gp0.log_marginal_likelihood_value_"
   ]
  },
  {
   "cell_type": "code",
   "execution_count": 221,
   "metadata": {},
   "outputs": [
    {
     "data": {
      "text/plain": [
       "array([7.6009 , 6.90776])"
      ]
     },
     "execution_count": 221,
     "metadata": {},
     "output_type": "execute_result"
    }
   ],
   "source": [
    "# The fitted kernel's parameters are packed into an array\n",
    "gp0.kernel_.theta"
   ]
  },
  {
   "cell_type": "code",
   "execution_count": 222,
   "metadata": {},
   "outputs": [
    {
     "data": {
      "text/plain": [
       "Text(0.5,1,'DotProduct(sigma_0=2e+03) + WhiteKernel(noise_level=1e+03)')"
      ]
     },
     "execution_count": 222,
     "metadata": {},
     "output_type": "execute_result"
    },
    {
     "data": {
      "image/png": "[encoded data removed]",
      "text/plain": [
       "<Figure size 720x504 with 1 Axes>"
      ]
     },
     "metadata": {},
     "output_type": "display_data"
    }
   ],
   "source": [
    "plot_predictions(gp0)\n",
    "plt.title(str(gp0.kernel_))"
   ]
  },
  {
   "cell_type": "code",
   "execution_count": 189,
   "metadata": {},
   "outputs": [],
   "source": [
    "y_hat = (gp0.predict(X))\n",
    "data_covid = data_covid.assign(y_hat = y_hat)\n",
    "\n",
    "reference_time = pd.to_datetime(\"2020-02-24\")\n",
    "date_idx = np.array([[i] for i in range(0,80)])\n",
    "\n",
    "date_days = [reference_time+pd.Timedelta(date_idx[i][0], \"D\") for i in range(80)] "
   ]
  },
  {
   "cell_type": "code",
   "execution_count": 190,
   "metadata": {},
   "outputs": [
    {
     "data": {
      "text/plain": [
       "Text(0.5,1,'Daily wabs as a function of time index')"
      ]
     },
     "execution_count": 190,
     "metadata": {},
     "output_type": "execute_result"
    },
    {
     "data": {
      "image/png": "[encoded data removed]",
      "text/plain": [
       "<Figure size 864x432 with 1 Axes>"
      ]
     },
     "metadata": {},
     "output_type": "display_data"
    }
   ],
   "source": [
    "Y_hat = (gp0.predict(date_idx))\n",
    "\n",
    "#data_covid = data_covid.assign(y_hat = Y_hat)\n",
    "\n",
    "\n",
    "fig, ax = plt.subplots(1, 1, figsize=(12, 6))\n",
    "ax.plot(date_days[0:len(data_covid.y_n.values)], data_covid.y_n.values, color='black', marker='o', linestyle='', alpha= 0.4,label='observed')\n",
    "ax.plot(date_days, Y_hat, color='b', linestyle='--', label=\"predictions\")\n",
    "ax.axvline(pd.to_datetime(\"2020-04-13\"), linestyle='--', color='k')\n",
    "ax.legend()\n",
    "ax.set_title('Daily wabs as a function of time index')"
   ]
  },
  {
   "cell_type": "code",
   "execution_count": 4,
   "metadata": {},
   "outputs": [
    {
     "data": {
      "text/plain": [
       "Text(0.5,1,'Swabs as a function of time index')"
      ]
     },
     "execution_count": 4,
     "metadata": {},
     "output_type": "execute_result"
    },
    {
     "data": {
      "image/png": "[encoded data removed]",
      "text/plain": [
       "<Figure size 936x504 with 1 Axes>"
      ]
     },
     "metadata": {},
     "output_type": "display_data"
    }
   ],
   "source": [
    "fig, ax = plt.subplots(1, 1, figsize=(13, 7))\n",
    "\n",
    "ax.plot(data_covid.index.values, data_covid.swabs, color='b')\n",
    "ax.plot(data_covid.index.values, data_covid.swabs, color='b', marker='o', linestyle='', alpha=0.2)\n",
    "ax.axvline(\"2020-04-13\", linestyle='--', color='k')\n",
    "ax.legend()\n",
    "ax.set_title('Swabs as a function of time index')"
   ]
  }
 ],
 "metadata": {
  "kernelspec": {
   "display_name": "Python 3",
   "language": "python",
   "name": "python3"
  },
  "language_info": {
   "codemirror_mode": {
    "name": "ipython",
    "version": 3
   },
   "file_extension": ".py",
   "mimetype": "text/x-python",
   "name": "python",
   "nbconvert_exporter": "python",
   "pygments_lexer": "ipython3",
   "version": "3.6.5"
  }
 },
 "nbformat": 4,
 "nbformat_minor": 4
}
