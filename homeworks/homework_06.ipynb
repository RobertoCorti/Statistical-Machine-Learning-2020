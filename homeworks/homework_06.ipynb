{
 "cells": [
  {
   "cell_type": "markdown",
   "metadata": {},
   "source": [
    "## Exercise 1\n",
    "\n",
    "Poisson regression is a Generalized Linear Model, used to model count data. It takes the form\n",
    "\n",
    "$$\\mathbb{E}(\\mu|x)=\\exp(w_1\\,x_1+\\ldots+w_k\\,x_k+b),$$\n",
    "\n",
    "where the observed counts $y$ are drawn from a Poisson distribution on the expected counts: \n",
    "\n",
    "$$y_i \\sim \\text{Poisson}(\\mu_i).$$\n",
    "\n",
    "1. Download and import Load the smoking dataset from: [https://data.princeton.edu/wws509/datasets/#smoking](https://data.princeton.edu/wws509/datasets/#smoking). Then perform a train-test split on the data;\n",
    "2. Fit a Poisson bayesian regression model using the number of deaths as the response variable and the other columns as the explanatory variables;\n",
    "3. Evaluate the regression fit on test data using MAE and MSE error metrics."
   ]
  },
  {
   "cell_type": "code",
   "execution_count": 1,
   "metadata": {},
   "outputs": [],
   "source": [
    "import pyro\n",
    "import torch\n",
    "import pyro.distributions as dist\n",
    "import pyro.optim as optim\n",
    "from pyro.infer import SVI, Trace_ELBO\n",
    "import pandas as pd \n",
    "import seaborn as sns\n",
    "import matplotlib.pyplot as plt\n",
    "import numpy as np\n",
    "from pyro.infer import Predictive\n",
    "import torch.distributions.constraints as constraints\n",
    "from sklearn import datasets\n",
    "from sklearn.model_selection import train_test_split\n",
    "sns.set_style(\"darkgrid\")\n",
    "figsize=(10,4)\n",
    "pyro.set_rng_seed(0)"
   ]
  },
  {
   "cell_type": "code",
   "execution_count": 2,
   "metadata": {},
   "outputs": [
    {
     "name": "stdout",
     "output_type": "stream",
     "text": [
      "<class 'pandas.core.frame.DataFrame'>\n",
      "RangeIndex: 36 entries, 0 to 35\n",
      "Data columns (total 4 columns):\n",
      " #   Column  Non-Null Count  Dtype\n",
      "---  ------  --------------  -----\n",
      " 0   0       36 non-null     int64\n",
      " 1   1       36 non-null     int64\n",
      " 2   2       36 non-null     int64\n",
      " 3   3       36 non-null     int64\n",
      "dtypes: int64(4)\n",
      "memory usage: 1.2 KB\n"
     ]
    }
   ],
   "source": [
    "# load data from csv and remove NA values\n",
    "data = pd.read_table(\"data/smoking.raw\", delim_whitespace=True, header=None)\n",
    "data.info()"
   ]
  },
  {
   "cell_type": "code",
   "execution_count": 3,
   "metadata": {},
   "outputs": [
    {
     "data": {
      "text/html": [
       "<div>\n",
       "<style scoped>\n",
       "    .dataframe tbody tr th:only-of-type {\n",
       "        vertical-align: middle;\n",
       "    }\n",
       "\n",
       "    .dataframe tbody tr th {\n",
       "        vertical-align: top;\n",
       "    }\n",
       "\n",
       "    .dataframe thead th {\n",
       "        text-align: right;\n",
       "    }\n",
       "</style>\n",
       "<table border=\"1\" class=\"dataframe\">\n",
       "  <thead>\n",
       "    <tr style=\"text-align: right;\">\n",
       "      <th></th>\n",
       "      <th>age</th>\n",
       "      <th>smoke</th>\n",
       "      <th>pop</th>\n",
       "      <th>dead</th>\n",
       "    </tr>\n",
       "  </thead>\n",
       "  <tbody>\n",
       "    <tr>\n",
       "      <th>0</th>\n",
       "      <td>1</td>\n",
       "      <td>1</td>\n",
       "      <td>656</td>\n",
       "      <td>18</td>\n",
       "    </tr>\n",
       "    <tr>\n",
       "      <th>1</th>\n",
       "      <td>2</td>\n",
       "      <td>1</td>\n",
       "      <td>359</td>\n",
       "      <td>22</td>\n",
       "    </tr>\n",
       "    <tr>\n",
       "      <th>2</th>\n",
       "      <td>3</td>\n",
       "      <td>1</td>\n",
       "      <td>249</td>\n",
       "      <td>19</td>\n",
       "    </tr>\n",
       "  </tbody>\n",
       "</table>\n",
       "</div>"
      ],
      "text/plain": [
       "   age  smoke  pop  dead\n",
       "0    1      1  656    18\n",
       "1    2      1  359    22\n",
       "2    3      1  249    19"
      ]
     },
     "execution_count": 3,
     "metadata": {},
     "output_type": "execute_result"
    }
   ],
   "source": [
    "data.columns = [\"age\", \"smoke\", \"pop\", \"dead\"]\n",
    "\n",
    "data.head(3)"
   ]
  },
  {
   "cell_type": "code",
   "execution_count": 4,
   "metadata": {},
   "outputs": [],
   "source": [
    "train_size = int(0.8 * len(data))\n",
    "test_size = len(data) - train_size\n",
    "\n",
    "train_dataset, test_dataset = torch.utils.data.random_split(data, [train_size, test_size])"
   ]
  },
  {
   "cell_type": "code",
   "execution_count": 5,
   "metadata": {},
   "outputs": [
    {
     "name": "stdout",
     "output_type": "stream",
     "text": [
      "x_train.shape = torch.Size([28, 3]) \n",
      "y_train.shape = torch.Size([28])\n",
      "\n",
      "x_test.shape = torch.Size([8, 3]) \n",
      "y_test.shape = torch.Size([8])\n"
     ]
    }
   ],
   "source": [
    "x_test = torch.stack([torch.tensor(test_dataset.dataset[column].values[test_dataset.indices], dtype=torch.float64)\n",
    "                           for column in [\"age\",\"smoke\",\"pop\"]], 1)\n",
    "y_test = torch.tensor(test_dataset.dataset.dead.values[test_dataset.indices], dtype=torch.int64)\n",
    "\n",
    "x_train = torch.stack([torch.tensor(train_dataset.dataset[column].values[train_dataset.indices], dtype=torch.float64)\n",
    "                           for column in [\"age\",\"smoke\",\"pop\"]], 1)\n",
    "y_train = torch.tensor(train_dataset.dataset.dead.values[train_dataset.indices], dtype=torch.float64)\n",
    "\n",
    "\n",
    "print(\"x_train.shape =\", x_train.shape,\"\\ny_train.shape =\", y_train.shape)\n",
    "print(\"\\nx_test.shape =\", x_test.shape,\"\\ny_test.shape =\", y_test.shape)"
   ]
  },
  {
   "cell_type": "markdown",
   "metadata": {},
   "source": [
    "In our model we have : \n",
    "\n",
    "\\begin{align*}\n",
    "\\mu_i &= \\exp(w_1\\,x_1+w_2\\,x_2+w_3\\,x_3+b)\\\\\n",
    "y &\\sim \\text{Poisson}(\\mu_i).\n",
    "\\end{align*}\n",
    "\n",
    "\n",
    "\n",
    "\n",
    "\n",
    "Then we define the family of posterior distributions, by setting a Gamma distribution on $w$ and a Log-Normal on $b$, and run SVI inference on $(x,y)$ data.\n",
    "\n",
    "Notice the prior distribution on the bias term makes this regression problem analytically intractable."
   ]
  },
  {
   "cell_type": "code",
   "execution_count": 17,
   "metadata": {},
   "outputs": [
    {
     "name": "stdout",
     "output_type": "stream",
     "text": [
      "Step 0 : loss = 2198.156124143573\n",
      "Step 100 : loss = 2084.10816567456\n",
      "Step 200 : loss = 2142.0099109553785\n",
      "Step 300 : loss = 1637.838734830768\n",
      "Step 400 : loss = 1389.1052393506518\n",
      "Step 500 : loss = 3028.401209932028\n",
      "Step 600 : loss = 903.4101238552794\n",
      "Step 700 : loss = 701.7297732604164\n",
      "Step 800 : loss = 2084.0962149151715\n",
      "Step 900 : loss = 2142.017061711232\n",
      "Step 1000 : loss = 1637.8441864588206\n",
      "Step 1100 : loss = 1389.1096763693818\n",
      "Step 1200 : loss = 3028.412376185334\n",
      "Step 1300 : loss = 903.4146705110654\n",
      "Step 1400 : loss = 701.7207284130948\n",
      "Step 1500 : loss = 2084.104590237971\n",
      "Step 1600 : loss = 2142.024016567193\n",
      "Step 1700 : loss = 1637.850612660146\n",
      "Step 1800 : loss = 1389.1165756121334\n",
      "Step 1900 : loss = 3028.4194285701897\n"
     ]
    }
   ],
   "source": [
    "# modelling rain in terms of the predictors\n",
    "def smoke_model(predictors, deaths):\n",
    "    with torch.no_grad():\n",
    "        n_observations, n_predictors = predictors.shape\n",
    "    \n",
    "        # sample weights\n",
    "        w = pyro.sample(\"w\", dist.Cauchy(torch.zeros(n_predictors), \n",
    "                                        torch.tensor([0.00001,0.00001,0.00001])))\n",
    "        b = pyro.sample(\"b\", dist.Uniform(-1, 0))\n",
    "    \n",
    "        yhat = np.exp((w*predictors).sum(dim=1) + b)\n",
    "        \n",
    "        # condition on the observations\n",
    "        with pyro.plate(\"deaths\", len(deaths)):\n",
    "            pyro.sample(\"obs\", dist.Poisson(yhat), obs=deaths)\n",
    "        \n",
    "def smoke_guide(predictors, deaths=None):\n",
    "    \n",
    "    n_observations, n_predictors = predictors.shape\n",
    "        \n",
    "    w_loc = pyro.param(\"w_loc\", torch.rand(n_predictors), constraint=constraints.positive)\n",
    "    w_scale = pyro.param(\"w_scale\", torch.rand(n_predictors)/1000, \n",
    "                         constraint=constraints.positive)\n",
    "    \n",
    "    w = pyro.sample(\"w\", dist.Gamma(w_loc, w_scale))\n",
    "    \n",
    "    b_loc = pyro.param(\"b_loc\", torch.rand(1))\n",
    "    b_scale = pyro.param(\"b_scale\", torch.rand(1), constraint=constraints.positive)\n",
    "    \n",
    "    b = pyro.sample(\"b\", dist.LogNormal(b_loc, b_scale))\n",
    "    \n",
    "    \n",
    "smokeguide = pyro.infer.autoguide.AutoMultivariateNormal(smoke_model)\n",
    "\n",
    "smoke_svi = SVI(model=smoke_model, guide=smokeguide, \n",
    "              optim=optim.ClippedAdam({'lr' : 0.01}), \n",
    "              loss=Trace_ELBO()) \n",
    "\n",
    "for step in range(2000):\n",
    "    loss = smoke_svi.step(x_train, y_train)/len(x_train)\n",
    "    if step % 100 == 0:\n",
    "        print(f\"Step {step} : loss = {loss}\")"
   ]
  },
  {
   "cell_type": "code",
   "execution_count": 41,
   "metadata": {},
   "outputs": [
    {
     "name": "stdout",
     "output_type": "stream",
     "text": [
      "Inferred params: ['AutoLaplaceApproximation.loc', 'AutoMultivariateNormal.loc', 'AutoMultivariateNormal.scale_tril']\n",
      "\n",
      "w_0 = 0.00085607\n",
      "w_1 = 0.00085807\n",
      "w_2 = 0.00086191\n",
      "b = 0.00000005\n"
     ]
    }
   ],
   "source": [
    "param = list(pyro.get_param_store().keys())\n",
    "print(\"Inferred params:\", param, end=\"\\n\\n\")\n",
    "\n",
    "inferred = pyro.get_param_store()[param[0]]\n",
    "\n",
    "# w_i and b posterior mean\n",
    "#inferred_w = pyro.get_param_store()[\"w_loc\"]\n",
    "#inferred_b = pyro.get_param_store()[\"b_loc\"]\n",
    "\n",
    "inferred_w = inferred[0:3]\n",
    "inferred_b = inferred[3]\n",
    "\n",
    "for i,w in enumerate(inferred_w):\n",
    "    print(f\"w_{i} = {w.item():.8f}\")\n",
    "print(f\"b = {inferred_b.item():.8f}\")"
   ]
  },
  {
   "cell_type": "code",
   "execution_count": 42,
   "metadata": {},
   "outputs": [
    {
     "name": "stdout",
     "output_type": "stream",
     "text": [
      "Sampled parameter = w\n",
      "\n",
      "       mean  std        5%       50%       95%\n",
      "0  0.000856  0.0  0.000856  0.000856  0.000856\n",
      "1  0.000858  0.0  0.000858  0.000858  0.000858\n",
      "2  0.000862  0.0  0.000862  0.000862  0.000862\n",
      "\n",
      "Sampled parameter = b\n",
      "\n",
      "   mean  std   5%  50%  95%\n",
      "0  -0.5  0.0 -0.5 -0.5 -0.5\n",
      "\n"
     ]
    }
   ],
   "source": [
    "# print latent params quantile information\n",
    "def summary(samples):\n",
    "    stats = {}\n",
    "    for par_name, values in samples.items():\n",
    "        marginal = pd.DataFrame(values)\n",
    "        percentiles=[.05, 0.5, 0.95]\n",
    "        describe = marginal.describe(percentiles).transpose()\n",
    "        stats[par_name] = describe[[\"mean\", \"std\", \"5%\", \"50%\", \"95%\"]]\n",
    "    return stats\n",
    "\n",
    "# define the posterior predictive\n",
    "predictive = Predictive(model=smoke_model, guide=smokeguide, num_samples=100,\n",
    "                        return_sites=(\"w\",\"b\"))\n",
    "\n",
    "# get posterior samples on test data\n",
    "svi_samples = {k: v.detach().numpy() for k, v in predictive(x_test, y_test).items()}\n",
    "\n",
    "# show summary statistics\n",
    "for key, value in summary(svi_samples).items():\n",
    "    print(f\"Sampled parameter = {key}\\n\\n{value}\\n\")"
   ]
  },
  {
   "cell_type": "code",
   "execution_count": 44,
   "metadata": {},
   "outputs": [
    {
     "name": "stdout",
     "output_type": "stream",
     "text": [
      "MAE = 131.183378485426\n",
      "MSE = 25360.296325768784\n"
     ]
    }
   ],
   "source": [
    "# compute predictions using the inferred paramters\n",
    "y_pred = (inferred_w * x_test).sum(1) + inferred_b \n",
    "\n",
    "print(\"MAE =\", torch.nn.L1Loss()(y_test, y_pred).item())\n",
    "print(\"MSE =\", torch.nn.MSELoss()(y_test, y_pred).item())\n",
    "\n"
   ]
  },
  {
   "cell_type": "markdown",
   "metadata": {},
   "source": [
    "## Exercise 2\n",
    "\n",
    "The Iris dataset contains petal and sepal length and width for three different types of Iris flowers: Setosa, Versicolour, and Virginica.\n",
    "\n",
    "1. Import the Iris dataset from `sklearn`:\n",
    "```\n",
    "from sklearn import datasets\n",
    "iris = datasets.load_iris()\n",
    "```\n",
    "and perform a train-test split on the data.\n",
    "\n",
    "2. Fit a multinomial bayesian logistic regression model on the four predictors petal length/width and sepal length/width. \n",
    "\n",
    "3. Evaluate your bayesian classifier on test data: compute the overall test accuracy and class-wise accuracy for the three different flower categories."
   ]
  },
  {
   "cell_type": "code",
   "execution_count": 113,
   "metadata": {},
   "outputs": [
    {
     "data": {
      "text/html": [
       "<div>\n",
       "<style scoped>\n",
       "    .dataframe tbody tr th:only-of-type {\n",
       "        vertical-align: middle;\n",
       "    }\n",
       "\n",
       "    .dataframe tbody tr th {\n",
       "        vertical-align: top;\n",
       "    }\n",
       "\n",
       "    .dataframe thead th {\n",
       "        text-align: right;\n",
       "    }\n",
       "</style>\n",
       "<table border=\"1\" class=\"dataframe\">\n",
       "  <thead>\n",
       "    <tr style=\"text-align: right;\">\n",
       "      <th></th>\n",
       "      <th>sepal length (cm)</th>\n",
       "      <th>sepal width (cm)</th>\n",
       "      <th>petal length (cm)</th>\n",
       "      <th>petal width (cm)</th>\n",
       "    </tr>\n",
       "  </thead>\n",
       "  <tbody>\n",
       "    <tr>\n",
       "      <th>0</th>\n",
       "      <td>5.1</td>\n",
       "      <td>3.5</td>\n",
       "      <td>1.4</td>\n",
       "      <td>0.2</td>\n",
       "    </tr>\n",
       "    <tr>\n",
       "      <th>1</th>\n",
       "      <td>4.9</td>\n",
       "      <td>3.0</td>\n",
       "      <td>1.4</td>\n",
       "      <td>0.2</td>\n",
       "    </tr>\n",
       "    <tr>\n",
       "      <th>2</th>\n",
       "      <td>4.7</td>\n",
       "      <td>3.2</td>\n",
       "      <td>1.3</td>\n",
       "      <td>0.2</td>\n",
       "    </tr>\n",
       "    <tr>\n",
       "      <th>3</th>\n",
       "      <td>4.6</td>\n",
       "      <td>3.1</td>\n",
       "      <td>1.5</td>\n",
       "      <td>0.2</td>\n",
       "    </tr>\n",
       "    <tr>\n",
       "      <th>4</th>\n",
       "      <td>5.0</td>\n",
       "      <td>3.6</td>\n",
       "      <td>1.4</td>\n",
       "      <td>0.2</td>\n",
       "    </tr>\n",
       "  </tbody>\n",
       "</table>\n",
       "</div>"
      ],
      "text/plain": [
       "   sepal length (cm)  sepal width (cm)  petal length (cm)  petal width (cm)\n",
       "0                5.1               3.5                1.4               0.2\n",
       "1                4.9               3.0                1.4               0.2\n",
       "2                4.7               3.2                1.3               0.2\n",
       "3                4.6               3.1                1.5               0.2\n",
       "4                5.0               3.6                1.4               0.2"
      ]
     },
     "execution_count": 113,
     "metadata": {},
     "output_type": "execute_result"
    }
   ],
   "source": [
    "iris = datasets.load_iris()\n",
    "\n",
    "df = pd.DataFrame (iris.data, columns = iris.feature_names)\n",
    "\n",
    "df.head()"
   ]
  },
  {
   "cell_type": "code",
   "execution_count": 114,
   "metadata": {},
   "outputs": [
    {
     "data": {
      "text/html": [
       "<div>\n",
       "<style scoped>\n",
       "    .dataframe tbody tr th:only-of-type {\n",
       "        vertical-align: middle;\n",
       "    }\n",
       "\n",
       "    .dataframe tbody tr th {\n",
       "        vertical-align: top;\n",
       "    }\n",
       "\n",
       "    .dataframe thead th {\n",
       "        text-align: right;\n",
       "    }\n",
       "</style>\n",
       "<table border=\"1\" class=\"dataframe\">\n",
       "  <thead>\n",
       "    <tr style=\"text-align: right;\">\n",
       "      <th></th>\n",
       "      <th>sepal length (cm)</th>\n",
       "      <th>sepal width (cm)</th>\n",
       "      <th>petal length (cm)</th>\n",
       "      <th>petal width (cm)</th>\n",
       "    </tr>\n",
       "  </thead>\n",
       "  <tbody>\n",
       "    <tr>\n",
       "      <th>0</th>\n",
       "      <td>0.222222</td>\n",
       "      <td>0.625000</td>\n",
       "      <td>0.067797</td>\n",
       "      <td>0.041667</td>\n",
       "    </tr>\n",
       "    <tr>\n",
       "      <th>1</th>\n",
       "      <td>0.166667</td>\n",
       "      <td>0.416667</td>\n",
       "      <td>0.067797</td>\n",
       "      <td>0.041667</td>\n",
       "    </tr>\n",
       "    <tr>\n",
       "      <th>2</th>\n",
       "      <td>0.111111</td>\n",
       "      <td>0.500000</td>\n",
       "      <td>0.050847</td>\n",
       "      <td>0.041667</td>\n",
       "    </tr>\n",
       "    <tr>\n",
       "      <th>3</th>\n",
       "      <td>0.083333</td>\n",
       "      <td>0.458333</td>\n",
       "      <td>0.084746</td>\n",
       "      <td>0.041667</td>\n",
       "    </tr>\n",
       "    <tr>\n",
       "      <th>4</th>\n",
       "      <td>0.194444</td>\n",
       "      <td>0.666667</td>\n",
       "      <td>0.067797</td>\n",
       "      <td>0.041667</td>\n",
       "    </tr>\n",
       "  </tbody>\n",
       "</table>\n",
       "</div>"
      ],
      "text/plain": [
       "   sepal length (cm)  sepal width (cm)  petal length (cm)  petal width (cm)\n",
       "0           0.222222          0.625000           0.067797          0.041667\n",
       "1           0.166667          0.416667           0.067797          0.041667\n",
       "2           0.111111          0.500000           0.050847          0.041667\n",
       "3           0.083333          0.458333           0.084746          0.041667\n",
       "4           0.194444          0.666667           0.067797          0.041667"
      ]
     },
     "execution_count": 114,
     "metadata": {},
     "output_type": "execute_result"
    }
   ],
   "source": [
    "# dataset normalization\n",
    "df = (df-df.min())/(df.max()-df.min())\n",
    "df.head()"
   ]
  },
  {
   "cell_type": "code",
   "execution_count": 117,
   "metadata": {},
   "outputs": [
    {
     "data": {
      "text/html": [
       "<div>\n",
       "<style scoped>\n",
       "    .dataframe tbody tr th:only-of-type {\n",
       "        vertical-align: middle;\n",
       "    }\n",
       "\n",
       "    .dataframe tbody tr th {\n",
       "        vertical-align: top;\n",
       "    }\n",
       "\n",
       "    .dataframe thead th {\n",
       "        text-align: right;\n",
       "    }\n",
       "</style>\n",
       "<table border=\"1\" class=\"dataframe\">\n",
       "  <thead>\n",
       "    <tr style=\"text-align: right;\">\n",
       "      <th></th>\n",
       "      <th>sepal length (cm)</th>\n",
       "      <th>sepal width (cm)</th>\n",
       "      <th>petal length (cm)</th>\n",
       "      <th>petal width (cm)</th>\n",
       "      <th>Species</th>\n",
       "    </tr>\n",
       "  </thead>\n",
       "  <tbody>\n",
       "    <tr>\n",
       "      <th>0</th>\n",
       "      <td>0.222222</td>\n",
       "      <td>0.625000</td>\n",
       "      <td>0.067797</td>\n",
       "      <td>0.041667</td>\n",
       "      <td>0</td>\n",
       "    </tr>\n",
       "    <tr>\n",
       "      <th>1</th>\n",
       "      <td>0.166667</td>\n",
       "      <td>0.416667</td>\n",
       "      <td>0.067797</td>\n",
       "      <td>0.041667</td>\n",
       "      <td>0</td>\n",
       "    </tr>\n",
       "    <tr>\n",
       "      <th>2</th>\n",
       "      <td>0.111111</td>\n",
       "      <td>0.500000</td>\n",
       "      <td>0.050847</td>\n",
       "      <td>0.041667</td>\n",
       "      <td>0</td>\n",
       "    </tr>\n",
       "    <tr>\n",
       "      <th>3</th>\n",
       "      <td>0.083333</td>\n",
       "      <td>0.458333</td>\n",
       "      <td>0.084746</td>\n",
       "      <td>0.041667</td>\n",
       "      <td>0</td>\n",
       "    </tr>\n",
       "    <tr>\n",
       "      <th>4</th>\n",
       "      <td>0.194444</td>\n",
       "      <td>0.666667</td>\n",
       "      <td>0.067797</td>\n",
       "      <td>0.041667</td>\n",
       "      <td>0</td>\n",
       "    </tr>\n",
       "  </tbody>\n",
       "</table>\n",
       "</div>"
      ],
      "text/plain": [
       "   sepal length (cm)  sepal width (cm)  petal length (cm)  petal width (cm)  \\\n",
       "0           0.222222          0.625000           0.067797          0.041667   \n",
       "1           0.166667          0.416667           0.067797          0.041667   \n",
       "2           0.111111          0.500000           0.050847          0.041667   \n",
       "3           0.083333          0.458333           0.084746          0.041667   \n",
       "4           0.194444          0.666667           0.067797          0.041667   \n",
       "\n",
       "   Species  \n",
       "0        0  \n",
       "1        0  \n",
       "2        0  \n",
       "3        0  \n",
       "4        0  "
      ]
     },
     "execution_count": 117,
     "metadata": {},
     "output_type": "execute_result"
    }
   ],
   "source": [
    "df['Species'] = pd.Series(iris.target)\n",
    "\n",
    "df.head()"
   ]
  },
  {
   "cell_type": "code",
   "execution_count": 118,
   "metadata": {},
   "outputs": [],
   "source": [
    "train_size = int(0.8 * len(df))\n",
    "test_size = len(df) - train_size\n",
    "\n",
    "train_dataset, test_dataset = torch.utils.data.random_split(df, [train_size, test_size])"
   ]
  },
  {
   "cell_type": "code",
   "execution_count": 119,
   "metadata": {},
   "outputs": [
    {
     "name": "stdout",
     "output_type": "stream",
     "text": [
      "x_train.shape = torch.Size([120, 4]) \n",
      "y_train.shape = torch.Size([120])\n",
      "\n",
      "x_test.shape = torch.Size([30, 4]) \n",
      "y_test.shape = torch.Size([30])\n"
     ]
    }
   ],
   "source": [
    "x_test = torch.stack([torch.tensor(test_dataset.dataset[column].values[test_dataset.indices], dtype=torch.float64)\n",
    "                           for column in [\"sepal length (cm)\",\"sepal width (cm)\",\"petal length (cm)\", \"petal width (cm)\"]], 1)\n",
    "y_test = torch.tensor(test_dataset.dataset.Species.values[test_dataset.indices], dtype=torch.float64)\n",
    "\n",
    "x_train = torch.stack([torch.tensor(train_dataset.dataset[column].values[train_dataset.indices], dtype=torch.float64)\n",
    "                           for column in [\"sepal length (cm)\",\"sepal width (cm)\",\"petal length (cm)\", \"petal width (cm)\"]], 1)\n",
    "y_train = torch.tensor(train_dataset.dataset.Species.values[train_dataset.indices], dtype=torch.float64)\n",
    "\n",
    "\n",
    "print(\"x_train.shape =\", x_train.shape,\"\\ny_train.shape =\", y_train.shape)\n",
    "print(\"\\nx_test.shape =\", x_test.shape,\"\\ny_test.shape =\", y_test.shape)"
   ]
  },
  {
   "cell_type": "code",
   "execution_count": 158,
   "metadata": {},
   "outputs": [
    {
     "name": "stdout",
     "output_type": "stream",
     "text": [
      "Step 0 : loss = 1.2491825308427347\n",
      "Step 1000 : loss = 1.2396526230861116\n",
      "Step 2000 : loss = 1.1134286067024581\n",
      "Step 3000 : loss = 1.1208584752345907\n",
      "Step 4000 : loss = 1.0116466747953239\n",
      "Step 5000 : loss = 1.0804426408612455\n",
      "Step 6000 : loss = 1.0467457419347752\n",
      "Step 7000 : loss = 1.0042207423639973\n",
      "Step 8000 : loss = 1.0147735309042374\n",
      "Step 9000 : loss = 0.9414454003734671\n"
     ]
    },
    {
     "data": {
      "image/png": "[encoded data removed]",
      "text/plain": [
       "<Figure size 720x288 with 1 Axes>"
      ]
     },
     "metadata": {},
     "output_type": "display_data"
    }
   ],
   "source": [
    "# delete previously inferred params from pyro.param_store()\n",
    "pyro.clear_param_store()\n",
    "\n",
    "def log_reg_model(x, y):\n",
    "    n_observations, n_predictors = x.shape\n",
    "    \n",
    "    w_setosa = pyro.sample(\"w_setosa\", dist.Normal(torch.zeros(n_predictors), torch.ones(n_predictors)))\n",
    "    b_setosa = pyro.sample(\"b_setosa\", dist.Normal(0.,1.))\n",
    "    w_versi = pyro.sample(\"w_versi\", dist.Normal(torch.zeros(n_predictors), torch.ones(n_predictors)))\n",
    "    b_versi = pyro.sample(\"b_versi\", dist.Normal(0.,1.))\n",
    "    w_virgi = pyro.sample(\"w_virgi\", dist.Normal(torch.zeros(n_predictors), torch.ones(n_predictors)))\n",
    "    b_virgi = pyro.sample(\"b_virgi\", dist.Normal(0.,1.))\n",
    "    \n",
    "    # non-linearity\n",
    "    yhat_setosa = torch.sigmoid((w_setosa*x).sum(dim=1) + b_setosa)\n",
    "    yhat_versi = torch.sigmoid((w_versi*x).sum(dim=1) + b_versi)\n",
    "    yhat_virgi = torch.sigmoid((w_virgi*x).sum(dim=1) + b_virgi)\n",
    "    \n",
    "    yhat = torch.stack([yhat_setosa, yhat_versi, yhat_virgi], dim=1)\n",
    "    \n",
    "    with pyro.plate(\"data\", n_observations):\n",
    "        y = pyro.sample(\"y\", dist.Categorical(probs=yhat), obs=y)\n",
    "        \n",
    "def log_reg_guide(x, y=None):\n",
    "    \n",
    "    n_observations, n_predictors = x.shape\n",
    "    \n",
    "    w_setosa_loc = pyro.param(\"w_setosa_loc\", torch.rand(n_predictors))\n",
    "    w_setosa_scale = pyro.param(\"w_setosa_scale\", torch.rand(n_predictors))\n",
    "    w_setosa = pyro.sample(\"w_setosa\", dist.Normal(w_setosa_loc, w_setosa_scale))\n",
    "    b_setosa_loc = pyro.param(\"b_setosa_loc\", torch.rand(1))\n",
    "    b_setosa_scale = pyro.param(\"b_setosa_scale\", torch.rand(1))\n",
    "    b_setosa = pyro.sample(\"b_setosa\", dist.Normal(b_setosa_loc, b_setosa_scale))\n",
    "    \n",
    "    w_versi_loc = pyro.param(\"w_versi_loc\", torch.rand(n_predictors))\n",
    "    w_versi_scale = pyro.param(\"w_versi_scale\", torch.rand(n_predictors)) \n",
    "    w_versi = pyro.sample(\"w_versi\", dist.Normal(w_versi_loc, w_versi_scale))\n",
    "    b_versi_loc = pyro.param(\"b_versi_loc\", torch.rand(1))\n",
    "    b_versi_scale = pyro.param(\"b_versi_scale\", torch.rand(1))\n",
    "    b_versi = pyro.sample(\"b_versi\", dist.Normal(b_versi_loc, b_versi_scale))\n",
    "    \n",
    "    w_virgi_loc = pyro.param(\"w_virgi_loc\", torch.rand(n_predictors))\n",
    "    w_virgi_scale = pyro.param(\"w_virgi_scale\", torch.rand(n_predictors))\n",
    "    w_virgi = pyro.sample(\"w_virgi\", dist.Normal(w_virgi_loc, w_virgi_scale))\n",
    "    b_virgi_loc = pyro.param(\"b_virgi_loc\", torch.rand(1))\n",
    "    b_virgi_scale = pyro.param(\"b_virgi_scale\", torch.rand(1))\n",
    "    b_virgi = pyro.sample(\"b_virgi\", dist.Normal(b_virgi_loc, b_virgi_scale))\n",
    "    \n",
    "    \n",
    "\n",
    "    \n",
    "log_reg_svi = SVI(model=log_reg_model, guide=log_reg_guide, \n",
    "              optim=optim.ClippedAdam({'lr' : 0.0002}), \n",
    "              loss=Trace_ELBO()) \n",
    "\n",
    "losses = []\n",
    "for step in range(10000):\n",
    "    loss = log_reg_svi.step(x_train, y_train)/len(x_train)\n",
    "    losses.append(loss)\n",
    "    if step % 1000 == 0:\n",
    "        print(f\"Step {step} : loss = {loss}\")\n",
    "        \n",
    "fig, ax = plt.subplots(figsize=figsize)\n",
    "ax.plot(losses)\n",
    "ax.set_title(\"ELBO loss\");"
   ]
  },
  {
   "cell_type": "code",
   "execution_count": 205,
   "metadata": {},
   "outputs": [],
   "source": [
    "w_setosa = pyro.get_param_store()[\"w_setosa_loc\"]\n",
    "b_setosa = pyro.get_param_store()[\"b_setosa_loc\"]\n",
    "\n",
    "w_versi = pyro.get_param_store()[\"w_versi_loc\"]\n",
    "b_versi = pyro.get_param_store()[\"b_versi_loc\"]\n",
    "\n",
    "w_virgi = pyro.get_param_store()[\"w_virgi_loc\"]\n",
    "b_virgi = pyro.get_param_store()[\"b_virgi_loc\"]\n",
    "\n",
    "\n",
    "def predict_class(x):\n",
    "    out_setosa = torch.sigmoid((w_setosa * x).sum(dim=1) + b_setosa)\n",
    "    out_versi = torch.sigmoid((w_versi * x).sum(dim=1) + b_versi)\n",
    "    out_virgi = torch.sigmoid((w_virgi * x).sum(dim=1) + b_virgi)\n",
    "    \n",
    "    out = torch.stack([out_setosa, out_versi, out_virgi], dim=1)\n",
    "    \n",
    "    return (torch.argmax(out, dim=1))\n",
    "\n",
    "\n"
   ]
  },
  {
   "cell_type": "code",
   "execution_count": 206,
   "metadata": {},
   "outputs": [
    {
     "name": "stdout",
     "output_type": "stream",
     "text": [
      "test accuracy = 83.33%\n"
     ]
    }
   ],
   "source": [
    "correct_predictions = (predict_class(x_test) == y_test).sum().item()\n",
    "\n",
    "print(f\"test accuracy = {correct_predictions/len(x_test)*100:.2f}%\")"
   ]
  }
 ],
 "metadata": {
  "kernelspec": {
   "display_name": "Python 3",
   "language": "python",
   "name": "python3"
  },
  "language_info": {
   "codemirror_mode": {
    "name": "ipython",
    "version": 3
   },
   "file_extension": ".py",
   "mimetype": "text/x-python",
   "name": "python",
   "nbconvert_exporter": "python",
   "pygments_lexer": "ipython3",
   "version": "3.6.5"
  }
 },
 "nbformat": 4,
 "nbformat_minor": 4
}
