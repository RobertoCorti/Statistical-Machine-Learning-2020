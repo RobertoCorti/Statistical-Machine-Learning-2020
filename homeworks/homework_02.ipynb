{
 "cells": [
  {
   "cell_type": "markdown",
   "metadata": {},
   "source": [
    "## Homework 02"
   ]
  },
  {
   "cell_type": "markdown",
   "metadata": {},
   "source": [
    "### Exercise 1\n",
    "One half percent of the population has a coronavirus and a test is being developed. This test gives a false positive $3\\%$ of the time and a false negative $2\\%$ of the time. \n",
    "\n",
    "1. Find the probability that Luca is positive to the test.\n",
    "2. Suppose Luca is positive to the test. What is the probability that he has contracted the disease?"
   ]
  },
  {
   "cell_type": "markdown",
   "metadata": {},
   "source": [
    "**Solution**:\n",
    "\n",
    "Let's consider two random variables: \n",
    "* $v=0,1$, that is a binary variable that tells whether a person has coronavirus ($v=1$) or not. From the description of the problem we know that \n",
    "\n",
    "$$ p(v=1) = 0.5 \\space \\text{and} \\space p(v=0) = 1-0.5= 0.5 $$.\n",
    "* $t=0,1$, that is a binary variable that tells when a person results positive ($t=1$) or negative ($t=0$).\n",
    "\n",
    "We know that the test has a false positive rate of $3\\%$, so in terms of conditional probabilities $p(t|v=0)$ we have\n",
    "\n",
    "$$ p(t=1 | v= 0) = 0.03  \\space \\text{and} \\space p(t=0 | v= 0) = 1-0.03 = 0.97. $$\n",
    "\n",
    "On the other hand, we know that the test has a false negative rate of $2\\%$, so in terms of conditional probabilities $p(t|v=1)$ we have\n",
    "\n",
    "$$ p(t=0 | v= 1) = 0.02  \\space \\text{and} \\space p(t=1 | v= 1) = 1-0.02 = 0.98. $$\n",
    "\n",
    "\n",
    "1. In order to know the probability that Luca is positive to the test we can use the [Law of total proabibilty](https://en.wikipedia.org/wiki/Law_of_total_probability) that relates marginal probability $p(t)$ to conditionals $p(t|v)$:\n",
    "\n",
    "$$ p(t=1) = \\sum_{v\\in V} p(t=1|v)p(v) = p(t=1|v=0)p(v=0) + p(t=1|v=1)p(v=1)  $$"
   ]
  },
  {
   "cell_type": "code",
   "execution_count": 6,
   "metadata": {},
   "outputs": [
    {
     "name": "stdout",
     "output_type": "stream",
     "text": [
      "Luca has a probability to be positive of 0.505\n"
     ]
    }
   ],
   "source": [
    "# p(v)\n",
    "p_virus_yes = 0.5\n",
    "p_virus_no = 1-p_virus_yes\n",
    "\n",
    "#p(t|v=0)\n",
    "p_test_yes_virus_no = 0.03\n",
    "p_test_no_virus_no = 1 - p_test_yes_virus_no\n",
    "\n",
    "#p(t|v=1)\n",
    "p_test_no_virus_yes = 0.02\n",
    "p_test_yes_virus_yes = 1-0.02\n",
    "\n",
    "#p(t=1)\n",
    "p_test_yes = (p_test_yes_virus_no*p_virus_no) + (p_test_yes_virus_yes*p_virus_yes)\n",
    "\n",
    "print(\"Luca has a probability to be positive of\", round(p_test_yes,3))"
   ]
  },
  {
   "cell_type": "markdown",
   "metadata": {},
   "source": [
    "2. If Luca discovers that he has been positive to the test ($t=1$) for knowing his probability that he has contracted the disease we can use the [Bayes' Theorem](https://en.wikipedia.org/wiki/Bayes%27_theorem) \n",
    "\n",
    "$$ p(v=1 | t=1) = \\frac{p(t=1|v=1)p(v=1)}{p(t=1)}$$"
   ]
  },
  {
   "cell_type": "code",
   "execution_count": 17,
   "metadata": {},
   "outputs": [
    {
     "name": "stdout",
     "output_type": "stream",
     "text": [
      "Having been positive to the test, Luca has a probability to have coronavirus of 0.97\n"
     ]
    }
   ],
   "source": [
    "#p(v=1 | t=1)\n",
    "\n",
    "p_virus_yes_test_yes = (p_test_yes_virus_yes*p_virus_yes)/(p_test_yes)\n",
    "\n",
    "print(\"Having been positive to the test, Luca has a probability to have coronavirus of\", round(p_virus_yes_test_yes,3))"
   ]
  },
  {
   "cell_type": "markdown",
   "metadata": {},
   "source": [
    "### Exercise 2\n",
    "\n",
    "Implement the empirical cumulative distribution function $F_X(x)=$ `cdf(dist, x)` taking as inputs a `pyro.distributions` object `dist`, corresponding to the distribution of $X$, and a real value `x`.\n",
    "\n",
    "Suppose that $X\\sim \\mathcal{N}(0,1)$ and plot $F_X(x=1)$."
   ]
  },
  {
   "cell_type": "markdown",
   "metadata": {},
   "source": [
    "### Exercise 3\n",
    "\n",
    "Suppose the heights of male students are normally distributed with mean $180$ and unknown variance $\\sigma^2$. Suppose that $\\sigma^2$ is in the range $[22,41]$ with approximately $95\\%$ probability and assign to $\\sigma^2$ an inverse-gamma $IG(38,1110)$ prior distribution .\n",
    "\n",
    "1. Empirically verify that the parameters of the inverse-gamma distribution lead to a prior probability of approximately $95\\%$ that  $\\sigma^2\\in[22,41]$.\n",
    "2. Derive the posterior density of $\\sigma^2$ corresponding to the following data: $183, 173, 181, 170, 176, 180, 187, 176, 171, 190, 184, 173, 176, 179, 181, 186$.\n",
    "Then plot it together with the prior density.\n",
    "3. Compute the posterior density of the standard deviation $\\sigma$."
   ]
  },
  {
   "cell_type": "markdown",
   "metadata": {},
   "source": [
    "### Exercise 4\n",
    "\n",
    "Prove that the Gamma distribution is the conjugate prior distribution for the Exponential likelihood."
   ]
  }
 ],
 "metadata": {
  "kernelspec": {
   "display_name": "Python 3",
   "language": "python",
   "name": "python3"
  },
  "language_info": {
   "codemirror_mode": {
    "name": "ipython",
    "version": 3
   },
   "file_extension": ".py",
   "mimetype": "text/x-python",
   "name": "python",
   "nbconvert_exporter": "python",
   "pygments_lexer": "ipython3",
   "version": "3.6.5"
  }
 },
 "nbformat": 4,
 "nbformat_minor": 2
}
