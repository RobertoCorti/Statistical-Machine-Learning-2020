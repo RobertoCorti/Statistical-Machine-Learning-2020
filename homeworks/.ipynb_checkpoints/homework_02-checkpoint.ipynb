{
 "cells": [
  {
   "cell_type": "markdown",
   "metadata": {},
   "source": [
    "## Homework 02"
   ]
  },
  {
   "cell_type": "markdown",
   "metadata": {},
   "source": [
    "### Exercise 1\n",
    "One half percent of the population has a coronavirus and a test is being developed. This test gives a false positive $3\\%$ of the time and a false negative $2\\%$ of the time. \n",
    "\n",
    "1. Find the probability that Luca is positive to the test.\n",
    "2. Suppose Luca is positive to the test. What is the probability that he has contracted the disease?"
   ]
  },
  {
   "cell_type": "markdown",
   "metadata": {},
   "source": [
    "**Solution**:\n",
    "\n",
    "Let's consider two random variables: \n",
    "* $v=0,1$, that is a binary variable that tells whether a person has coronavirus ($v=1$) or not. From the description of the problem we know that \n",
    "\n",
    "$$ p(v=1) = 0.5 \\space \\text{and} \\space p(v=0) = 1-0.5= 0.5 $$.\n",
    "* $t=0,1$, that is a binary variable that tells when a person results positive ($t=1$) or negative ($t=0$).\n",
    "\n",
    "We know that the test has a false positive rate of $3\\%$, so in terms of conditional probabilities $p(t|v=0)$ we have\n",
    "\n",
    "$$ p(t=1 | v= 0) = 0.03  \\space \\text{and} \\space p(t=0 | v= 0) = 1-0.03 = 0.97. $$\n",
    "\n",
    "On the other hand, we know that the test has a false negative rate of $2\\%$, so in terms of conditional probabilities $p(t|v=1)$ we have\n",
    "\n",
    "$$ p(t=0 | v= 1) = 0.02  \\space \\text{and} \\space p(t=1 | v= 1) = 1-0.02 = 0.98. $$\n",
    "\n",
    "\n",
    "1. In order to know the probability that Luca is positive to the test we can use the [Law of total proabibilty](https://en.wikipedia.org/wiki/Law_of_total_probability) that relates marginal probability $p(t)$ to conditionals $p(t|v)$:\n",
    "\n",
    "$$ p(t=1) = \\sum_{v\\in V} p(t=1|v)p(v) = p(t=1|v=0)p(v=0) + p(t=1|v=1)p(v=1)  $$"
   ]
  },
  {
   "cell_type": "code",
   "execution_count": 6,
   "metadata": {},
   "outputs": [
    {
     "name": "stdout",
     "output_type": "stream",
     "text": [
      "Luca has a probability to be positive of 0.505\n"
     ]
    }
   ],
   "source": [
    "# p(v)\n",
    "p_virus_yes = 0.5\n",
    "p_virus_no = 1-p_virus_yes\n",
    "\n",
    "#p(t|v=0)\n",
    "p_test_yes_virus_no = 0.03\n",
    "p_test_no_virus_no = 1 - p_test_yes_virus_no\n",
    "\n",
    "#p(t|v=1)\n",
    "p_test_no_virus_yes = 0.02\n",
    "p_test_yes_virus_yes = 1-0.02\n",
    "\n",
    "#p(t=1)\n",
    "p_test_yes = (p_test_yes_virus_no*p_virus_no) + (p_test_yes_virus_yes*p_virus_yes)\n",
    "\n",
    "print(\"Luca has a probability to be positive of\", round(p_test_yes,3))"
   ]
  },
  {
   "cell_type": "markdown",
   "metadata": {},
   "source": [
    "2. If Luca discovers that he has been positive to the test ($t=1$) for knowing his probability that he has contracted the disease we can use the [Bayes' Theorem](https://en.wikipedia.org/wiki/Bayes%27_theorem) \n",
    "\n",
    "$$ p(v=1 | t=1) = \\frac{p(t=1|v=1)p(v=1)}{p(t=1)}$$"
   ]
  },
  {
   "cell_type": "code",
   "execution_count": 17,
   "metadata": {},
   "outputs": [
    {
     "name": "stdout",
     "output_type": "stream",
     "text": [
      "Having been positive to the test, Luca has a probability to have coronavirus of 0.97\n"
     ]
    }
   ],
   "source": [
    "#p(v=1 | t=1)\n",
    "\n",
    "p_virus_yes_test_yes = (p_test_yes_virus_yes*p_virus_yes)/(p_test_yes)\n",
    "\n",
    "print(\"Having been positive to the test, Luca has a probability to have coronavirus of\", round(p_virus_yes_test_yes,3))"
   ]
  },
  {
   "cell_type": "markdown",
   "metadata": {},
   "source": [
    "### Exercise 2\n",
    "\n",
    "Implement the empirical cumulative distribution function $F_X(x)=$ `cdf(dist, x)` taking as inputs a `pyro.distributions` object `dist`, corresponding to the distribution of $X$, and a real value `x`.\n",
    "\n",
    "\n",
    "Suppose that $X\\sim \\mathcal{N}(0,1)$ and plot $F_X(x=1)$."
   ]
  },
  {
   "cell_type": "code",
   "execution_count": 94,
   "metadata": {},
   "outputs": [],
   "source": [
    "import pyro\n",
    "import numpy as np\n",
    "import matplotlib.pyplot as plt\n",
    "import seaborn as sns \n",
    "\n",
    "def cdf(dist, x):\n",
    "    y = [pyro.sample(\"sample\", dist) for i in range(200)]\n",
    "    n = len(y)\n",
    "    y_x = [y[i] for i in range(n) if y[i]<x]\n",
    "    return (len(y_x))/(n)"
   ]
  },
  {
   "cell_type": "code",
   "execution_count": 140,
   "metadata": {},
   "outputs": [
    {
     "data": {
      "image/png": "[encoded data removed]",
      "text/plain": [
       "<Figure size 504x288 with 1 Axes>"
      ]
     },
     "metadata": {
      "needs_background": "light"
     },
     "output_type": "display_data"
    }
   ],
   "source": [
    "x = np.linspace(-2,2,200)\n",
    "\n",
    "y = []\n",
    "\n",
    "for t in x:\n",
    "    y.append(cdf(pyro.distributions.Normal(0,1), t))\n",
    "\n",
    "fig = plt.figure(figsize=(7,4))\n",
    "_ = plt.plot(x, y, '.')\n",
    "_ = plt.title(\"F(X)\", fontsize=18)\n",
    "_ = plt.xlabel(\"X\", fontsize=14)"
   ]
  },
  {
   "cell_type": "markdown",
   "metadata": {},
   "source": [
    "### Exercise 3\n",
    "\n",
    "Suppose the heights of male students are normally distributed with mean $180$ and unknown variance $\\sigma^2$. Suppose that $\\sigma^2$ is in the range $[22,41]$ with approximately $95\\%$ probability and assign to $\\sigma^2$ an inverse-gamma $IG(38,1110)$ prior distribution .\n",
    "\n",
    "1. Empirically verify that the parameters of the inverse-gamma distribution lead to a prior probability of approximately $95\\%$ that  $\\sigma^2\\in[22,41]$.\n",
    "2. Derive the posterior density of $\\sigma^2$ corresponding to the following data: $183, 173, 181, 170, 176, 180, 187, 176, 171, 190, 184, 173, 176, 179, 181, 186$.\n",
    "Then plot it together with the prior density.\n",
    "3. Compute the posterior density of the standard deviation $\\sigma$."
   ]
  },
  {
   "cell_type": "markdown",
   "metadata": {},
   "source": [
    "**Solution**:\n",
    "1. To verify that we recall the definition of cumulative distribution function (```cdf```) $F(x)$ that is \n",
    "\n",
    "    $$ F(x) = \\int_{-\\infty}^{x} dx \\space f(x), $$\n",
    "    where $f(x)$ is the probability density function.\n",
    "\n",
    "    So if $\\sigma^2$ is in the range $[22,41]$ with approximately $95\\%$ probability and it is distributed as an  inverse-gamma $IG(\\alpha=38,\\beta=1110)$ we conclude that \n",
    "\n",
    "    $$P(\\sigma^2 \\in [22,41]) = 0.95 = \\int_{22}^{41} d\\sigma^2 f_{IG}(\\sigma^2;38,110) = F_{IG}(\\sigma^2=41; 38,110)-F_{IG}(\\sigma^2=22; 38,110) $$\n",
    "    \n",
    "    Since in **Exercise 2** we implemented ```cdf``` function, let's see if this is correct"
   ]
  },
  {
   "cell_type": "code",
   "execution_count": 69,
   "metadata": {},
   "outputs": [
    {
     "name": "stdout",
     "output_type": "stream",
     "text": [
      "P(sigma^2 in [ 22 , 41 ]) =  0.95\n"
     ]
    }
   ],
   "source": [
    "dist = pyro.distributions.inverse_gamma.InverseGamma(38,1110)\n",
    "\n",
    "a=22\n",
    "b=41\n",
    "\n",
    "print(\"P(sigma^2 in [\",a,\",\",b,\"]) = \", cdf(dist,b)-cdf(dist,a))\n"
   ]
  },
  {
   "cell_type": "markdown",
   "metadata": {},
   "source": [
    "Defining $\\mathbf{x}$ as the vector that contains the data on the heights of male students, the posterior density $\\sigma^2$ can be derived with the Bayes' Theorem \n",
    "\n",
    "$$ p(\\sigma^2| \\mathbf{x}) = \\frac{p(\\mathbf{x}|\\sigma^2)p(\\sigma^2)}{p(\\mathbf{x})}, $$\n",
    "\n",
    "where \n",
    "\n",
    "$$ p(\\mathbf{x}|\\sigma^2) = \\prod_{i=0}^{N}\\frac{1}{\\sqrt{2\\pi\\sigma^2}}e^{-\\frac{(x_i-\\mu)^2}{2\\sigma^2}} $$\n",
    "\n",
    "$$ p(\\sigma^2) = \\frac{\\beta^\\alpha}{\\Gamma(\\alpha)} \\frac{e^{-\\frac{\\beta}{\\sigma^2}}}{(\\sigma^2)^{\\alpha + 1}}. $$\n",
    "\n",
    "So, putting these pdf in the posterior function we have,\n",
    "\n",
    "$$ p(\\sigma^2| \\mathbf{x}) = \\frac{1}{p(\\mathbf{x})} \\Biggl( \\prod_{i=0}^{N}\\frac{1}{\\sqrt{2\\pi\\sigma^2}}e^{-\\frac{(x_i-\\mu)^2}{2\\sigma^2}} \\Biggr) \\cdot \\Biggl( \\frac{\\beta^\\alpha}{\\Gamma(\\alpha)} \\frac{e^{-\\frac{\\beta}{\\sigma^2}}}{(\\sigma^2)^{\\alpha + 1}} \\Biggr) =  \\frac{1}{p(\\mathbf{x})} \\Biggl( \\frac{1}{{(2\\pi\\sigma^2)^{N/2}}}e^{-\\frac{\\sum_i (x_i-\\mu)^2}{2\\sigma^2}} \\Biggr)   \\cdot \\Biggl( \\frac{\\beta^\\alpha}{\\Gamma(\\alpha)} \\frac{e^{-\\frac{\\beta}{\\sigma^2}}}{(\\sigma^2)^{\\alpha + 1}} \\Biggr)    \\\\\n",
    "p(\\sigma^2| \\mathbf{x}) = \\frac{\\beta^\\alpha}{(2\\pi)^{N/2}p(\\mathbf{x})\\Gamma(\\alpha)} \\Biggl[ \\frac{1}{(\\sigma^2)^{N/2+\\alpha+1}}  e^{-\\frac{1}{\\sigma^2} \\Bigl(\\beta + \\frac{\\sum_i (x-\\mu)^2}{2} \\Bigr)} \\Biggr] $$\n",
    "\n",
    "Thus, defining $\\alpha' := N/2+\\alpha $ and $ \\beta' := \\beta + \\frac{\\sum_i (x-\\mu)^2}{2}$ we observe that up to normalizations costants\n",
    "\n",
    "$$  p(\\sigma^2| \\mathbf{x}) \\propto \\frac{1}{(\\sigma^2)^{\\alpha'+1}}  e^{-\\frac{\\beta'}{\\sigma^2}} $$\n",
    "\n",
    "and so the posterior of $\\sigma^2$ is an inverse Gamma distribution IG($\\alpha'$,$\\beta'$).\n",
    "\n",
    "In order to plot this distribution and its conjugate prior let's use now their relative ```pyro``` distribution for taking samples and put them in a histogram"
   ]
  },
  {
   "cell_type": "code",
   "execution_count": 82,
   "metadata": {},
   "outputs": [],
   "source": [
    "data = np.array([183,173,181,170,176,180,187,176,171,190,184,173,176,179,181,186])\n",
    "mu = 180\n",
    "N = len(data)\n",
    "\n",
    "prior = pyro.distributions.inverse_gamma.InverseGamma(38,1110)\n",
    "\n",
    "alpha_prime = 38 + (N/2)\n",
    "beta_prime = 1110 + (np.sum((data-mu)**2)/2)\n",
    "\n",
    "posterior = pyro.distributions.inverse_gamma.InverseGamma(alpha_prime,beta_prime)"
   ]
  },
  {
   "cell_type": "code",
   "execution_count": 133,
   "metadata": {},
   "outputs": [
    {
     "data": {
      "image/png": "[encoded data removed]",
      "text/plain": [
       "<Figure size 504x288 with 1 Axes>"
      ]
     },
     "metadata": {
      "needs_background": "light"
     },
     "output_type": "display_data"
    }
   ],
   "source": [
    "fig = plt.figure(figsize=(7,4))\n",
    "\n",
    "sigma_prior = [pyro.sample(\"sample_prior\", prior) for i in range(400)]\n",
    "sigma_post = [pyro.sample(\"sample_post\", posterior) for i in range(400)]\n",
    "\n",
    "\n",
    "_=sns.distplot(sigma_post, bins=50, kde_kws={\"label\": \"posterior\"})\n",
    "_=sns.distplot(sigma_prior, bins=50,  kde_kws={\"label\": \"prior\"})\n",
    "_=plt.title(\"Empiric distributions of $\\sigma^2$\", fontsize=17)\n",
    "_=plt.xlabel(\"$\\sigma^2$\", fontsize=14)"
   ]
  },
  {
   "cell_type": "code",
   "execution_count": 142,
   "metadata": {},
   "outputs": [
    {
     "data": {
      "image/png": "[encoded data removed]",
      "text/plain": [
       "<Figure size 504x288 with 1 Axes>"
      ]
     },
     "metadata": {
      "needs_background": "light"
     },
     "output_type": "display_data"
    }
   ],
   "source": [
    "ig = plt.figure(figsize=(7,4))\n",
    "sd_post = np.sqrt(sigma_post)\n",
    "\n",
    "_=plt.title(\"Empiric distributions of $\\sigma$\", fontsize=17)\n",
    "_=plt.xlabel(\"$\\sigma$\", fontsize=14)\n",
    "_=sns.distplot(sd_post, bins=50, kde_kws={\"label\": \"posterior\"})"
   ]
  },
  {
   "cell_type": "markdown",
   "metadata": {},
   "source": [
    "### Exercise 4\n",
    "\n",
    "Prove that the Gamma distribution is the conjugate prior distribution for the Exponential likelihood. "
   ]
  },
  {
   "cell_type": "code",
   "execution_count": null,
   "metadata": {},
   "outputs": [],
   "source": []
  }
 ],
 "metadata": {
  "kernelspec": {
   "display_name": "Python 3",
   "language": "python",
   "name": "python3"
  },
  "language_info": {
   "codemirror_mode": {
    "name": "ipython",
    "version": 3
   },
   "file_extension": ".py",
   "mimetype": "text/x-python",
   "name": "python",
   "nbconvert_exporter": "python",
   "pygments_lexer": "ipython3",
   "version": "3.6.5"
  }
 },
 "nbformat": 4,
 "nbformat_minor": 2
}
