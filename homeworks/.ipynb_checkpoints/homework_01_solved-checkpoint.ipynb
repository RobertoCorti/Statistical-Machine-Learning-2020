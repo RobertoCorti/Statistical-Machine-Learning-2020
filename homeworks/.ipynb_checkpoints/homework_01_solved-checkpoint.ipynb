{
 "cells": [
  {
   "cell_type": "markdown",
   "metadata": {},
   "source": [
    "## Homework 01"
   ]
  },
  {
   "cell_type": "markdown",
   "metadata": {},
   "source": [
    "### Exercise 1\n",
    "\n",
    "Let $Y$ be a random variable taking values in $\\{1,...,N\\}$ and suppose that any value is equally likely, i.e. that $P(Y=j)=\\frac{1}{N}$. \n",
    "\n",
    "Knowing that $\\sum_{j=1}^N j = \\frac{N(N+1)}{2}$, show that $\\mathbb{E}(Y)=\\frac{N+1}{2}$.\n",
    "\n"
   ]
  },
  {
   "cell_type": "markdown",
   "metadata": {},
   "source": [
    "**Solution**: \n",
    "\n",
    "We know that $ \\mathbb{E}(Y) = \\sum_{j=1}^N j\\cdot P(y=j) $ , so if $P(Y=j)=\\frac{1}{N}$ we will have\n",
    "\n",
    "$$  \\mathbb{E}(Y) = \\sum_{j=1}^N j\\cdot \\frac{1}{N} = \\frac{1}{N} \\sum_{j=1}^N j = \\frac{1}{N} \\cdot \\frac{N(N+1)}{2} = \\frac{N+1}{2} $$  "
   ]
  },
  {
   "cell_type": "markdown",
   "metadata": {},
   "source": [
    "### Exercise 2\n",
    "Prove that $\\mathbb{E}(X)=\\mu$ for $X\\sim\\mathcal{N}(\\mu,\\sigma^2)$."
   ]
  },
  {
   "cell_type": "markdown",
   "metadata": {},
   "source": [
    "**Solution**:\n",
    "\n",
    "For continuos random variables $\\mathbb{E}(X)= \\int_{X} dx \\cdot x \\cdot p(x) $. In case of normal distribution we know that the probability density function is $$p(x) = \\frac{1}{\\sqrt{2\\pi\\sigma^2}}e^{-\\frac{(x-\\mu)^2}{2\\sigma^2}}, $$\n",
    "thus its expected value will be\n",
    "$$ \\mathbb{E}(X)= \\int_{-\\infty}^{+\\infty} dx  \\frac{x}{\\sqrt{2\\pi\\sigma^2}}e^{-\\frac{(x-\\mu)^2}{2\\sigma^2}}. $$\n",
    "Considering the variable trasformation $ z = (x-\\mu)/\\sigma$, this integral will become\n",
    "$$ \\mathbb{E}(X)= \\frac{1}{\\sqrt{2\\pi}} \\int_{-\\infty}^{+\\infty} dz  \\Biggl(z+\\frac{\\mu}{\\sigma} \\Biggr) \\sigma e^{-z^2/2} =  \\frac{1}{\\sqrt{2\\pi}} \\int_{-\\infty}^{+\\infty} dz   \\sigma z e^{-z^2/2}  + \\frac{\\mu}{\\sqrt{2\\pi}} \\int_{-\\infty}^{+\\infty} dz  e^{-z^2/2}$$.\n",
    "\n",
    "We observe that the first integral vanishes, because the function $z \\sigma  e^{-z^2/2}$ is even. On the other hand, the second integral can be solved thanks to the [Gaussian Integral](https://en.wikipedia.org/wiki/Gaussian_integral) and we end up with:\n",
    "\n",
    "$$  \\mathbb{E}(X) = 0 + \\frac{\\mu}{\\sqrt{2\\pi}} \\cdot \\sqrt{2\\pi} = \\mu$$"
   ]
  },
  {
   "cell_type": "markdown",
   "metadata": {},
   "source": [
    "### Exercise 3\n",
    "Let $X$ and $Y$ have discrete joint distribution\n",
    "$$\n",
    "p(x,y) = \n",
    "\\begin{cases}\n",
    "\\frac{1}{30} (x+y) & \\text{for } x = 0,1,2 \\text{ and } y=0,1,2,3\\\\\n",
    "0 & \\text{otherwise}\n",
    "\\end{cases}\n",
    "$$\n",
    "\n",
    "Are $X$ and $Y$ independent?"
   ]
  },
  {
   "cell_type": "markdown",
   "metadata": {},
   "source": [
    "**Solution**: \n",
    "\n",
    "We know that two random variable are indipendent **_if and only if_** $p(x,y) = p(x)p(y)$. Let's see if this relation holds:\n",
    "$$ p(x) = \\sum_{y\\in Y} p(x,y) = \\sum_{j=0}^{3} \\frac{1}{30} (x+j) = \\frac{2x}{15} + \\frac{3}{15} = \\frac{1}{15}(2x+3),$$\n",
    "with the same computation we can show that \n",
    "$$ p(y) = \\frac{1}{15}(2y+3). $$\n",
    "So considering \n",
    "$$p(x)p(y) = \\frac{1}{225} ( 4xy + 6x + 6y + 9 )  \\neq p(x,y)    $$"
   ]
  },
  {
   "cell_type": "markdown",
   "metadata": {},
   "source": [
    "### Exercise 4\n",
    "\n",
    "Let $X$ and $Y$ be two continuos random variables with joint probability density\n",
    "\n",
    "$$\n",
    "f(x,y) = \n",
    "\\begin{cases}\n",
    "24xy & \\text{for } 0<x<1,0<y<1,x+y<1\\\\\n",
    "0 & \\text{otherwise}\n",
    "\\end{cases}\n",
    "$$\n",
    "\n",
    "Find\n",
    "1. the marginal density of Y;\n",
    "2. the conditional density of $X$ given $Y=1/2$.\n"
   ]
  },
  {
   "cell_type": "markdown",
   "metadata": {},
   "source": [
    "**Solution**: \n",
    "1. For continuos random variable the marginal probability density function of Y is $\\int_{X} dx f(x,y) $, so considering the definition of $f(x,y)$ we have\n",
    "$$ f(y) = \\int_{0}^{1-y} dx24xy = 24y \\int_{0}^{1-y} dx \\space x = 24y \\space \\frac{x^2}{2}\\Big|_{0}^{1-y} = 12y(1-y)^2$$\n",
    "2. The conditional density of X given Y = 1/2 can be found using the relation\n",
    "$$ f(x|y=1/2) = \\frac{f(x,y=1/2)}{f(y=1/2)}.$$\n",
    "For $x>1/2 \\space f(x,y=1/2)=0$, so $f(x|y=1/2) = 0$, while for $0<x<1/2$,\n",
    "$$ f(x|y=1/2) = \\frac{24x\\cdot\\frac{1}{2}}{12\\cdot\\frac{1}{2}\\cdot\\frac{1}{4}} = 8x. $$\n",
    "Thus, \n",
    "$$ \n",
    "f(x|y=1/2) = \n",
    "\\begin{cases}\n",
    "8x & \\text{for } 0<x<1/2 \\\\\n",
    "0 & \\text{otherwise}\n",
    "\\end{cases} \n",
    "$$"
   ]
  },
  {
   "cell_type": "markdown",
   "metadata": {},
   "source": [
    "### Exercise 5\n",
    "\n",
    "Let the joint distribution of $X$ and $Y$ be \n",
    "\n",
    "$$f(X,Y) = \\frac{\\Gamma(\\alpha_1+\\alpha_2+\\alpha_3)}{\\Gamma(\\alpha_1)\\Gamma(\\alpha_2)\\Gamma(\\alpha_3)}x^{\\alpha_1-1}y^{\\alpha_2-1}(1-x-y)^{\\alpha_3-1}.$$ \n",
    "\n",
    "Suppose that $0<x<1,0<y<1,x+y<1$ and prove that the marginal distribution of $X$ is a $\\text{Beta}(\\alpha_1,\\alpha_2+\\alpha_3)$."
   ]
  },
  {
   "cell_type": "markdown",
   "metadata": {},
   "source": [
    "**Solution**: \n",
    "\n",
    "The marginal distribution of $X$ is $\\int_{Y} dy f(X,Y) $, so considering the functional form of $f(X,Y)$ we have\n",
    "\n",
    "$$ f(X) = \\int_{0}^{1-x}  dy \\space  \\frac{\\Gamma(\\alpha_1+\\alpha_2+\\alpha_3)}{\\Gamma(\\alpha_1)\\Gamma(\\alpha_2)\\Gamma(\\alpha_3)}x^{\\alpha_1-1}y^{\\alpha_2-1}(1-x-y)^{\\alpha_3-1}  \n",
    "        =\\frac{\\Gamma(\\alpha_1+\\alpha_2+\\alpha_3)}{\\Gamma(\\alpha_1)\\Gamma(\\alpha_2)\\Gamma(\\alpha_3)}x^{\\alpha_1-1} \\int_{0}^{1-x} dy \\space y^{\\alpha_2-1}(1-x-y)^{\\alpha_3-1}. $$\n",
    "        \n",
    "        \n",
    "Since we can express the [Beta function](https://en.wikipedia.org/wiki/Beta_function) as $B(\\alpha, \\beta) = \\frac{\\Gamma(\\alpha)\\Gamma(\\beta)}{\\Gamma(\\alpha+\\beta)}  $ we can rewrite the previous expression as \n",
    "\n",
    "$$ f(X) = \\frac{x^{\\alpha_1-1}}{B(\\alpha_1, \\alpha_2+\\alpha_3)}\\int_{0}^{1-x} \\frac{dy}{B(\\alpha_2,\\alpha_3)} y^{\\alpha_2-1}(1-x-y)^{\\alpha_3-1}. $$\n",
    "\n",
    "Considering now $t := (1-x)$ and the variable transformation $z := y/t$ we end up with\n",
    "\n",
    "$$ f(X) = \\frac{x^{\\alpha_1-1}}{B(\\alpha_1, \\alpha_2+\\alpha_3)}  \\int_{0}^{1} \\frac{dz \\space t}{B(\\alpha_2,\\alpha_3)} (z\\cdot t)^{\\alpha_2-1}(1-z)^{\\alpha_3-1}\\cdot t^{\\alpha_3-1} = \\frac{x^{\\alpha_1-1}}{B(\\alpha_1, \\alpha_2+\\alpha_3)} \\space t^{\\alpha_2 + \\alpha_3 - 1} \\int_{0}^{1} \\frac{dz}{B(\\alpha_2,\\alpha_3)} z^{\\alpha_2-1}(1-z)^{\\alpha_3-1}, $$\n",
    "        \n",
    "but since $\\int_{0}^{1} \\frac{dz}{B(\\alpha_2,\\alpha_3)} z^{\\alpha_2-1}(1-z)^{\\alpha_3-1}=1$, we have \n",
    "        \n",
    "$$ f(X) = \\frac{x^{\\alpha_1-1}}{B(\\alpha_1, \\alpha_2+\\alpha_3)} \\space (1-x)^{\\alpha_2 + \\alpha_3 - 1} $$\n",
    "\n",
    "which is exactly the probability density function of a [Beta distribution](https://en.wikipedia.org/wiki/Beta_distribution) with $\\alpha = \\alpha_1$ and $\\beta = \\alpha_2 + \\alpha_3$. \n",
    "        "
   ]
  }
 ],
 "metadata": {
  "kernelspec": {
   "display_name": "Python 3",
   "language": "python",
   "name": "python3"
  },
  "language_info": {
   "codemirror_mode": {
    "name": "ipython",
    "version": 3
   },
   "file_extension": ".py",
   "mimetype": "text/x-python",
   "name": "python",
   "nbconvert_exporter": "python",
   "pygments_lexer": "ipython3",
   "version": "3.6.5"
  }
 },
 "nbformat": 4,
 "nbformat_minor": 2
}
